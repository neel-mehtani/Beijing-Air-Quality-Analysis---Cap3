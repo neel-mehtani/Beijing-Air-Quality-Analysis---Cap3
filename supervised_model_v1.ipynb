{
 "cells": [
  {
   "cell_type": "code",
   "execution_count": 1,
   "metadata": {},
   "outputs": [
    {
     "name": "stdout",
     "output_type": "stream",
     "text": [
      "Looking in links: https://sklearn-nightly.scdn8.secure.raxcdn.com\n",
      "Requirement already satisfied: scikit-learn in /usr/local/lib/python3.6/dist-packages (0.22.1)\n",
      "Requirement already satisfied: numpy>=1.11.0 in /usr/local/lib/python3.6/dist-packages (from scikit-learn) (1.18.1)\n",
      "Requirement already satisfied: joblib>=0.11 in /usr/local/lib/python3.6/dist-packages (from scikit-learn) (0.14.1)\n",
      "Requirement already satisfied: scipy>=0.17.0 in /usr/local/lib/python3.6/dist-packages (from scikit-learn) (1.4.1)\n"
     ]
    }
   ],
   "source": [
    "# Install a pip package in the current Jupyter kernel\n",
    "import sys\n",
    "!{sys.executable} -m pip install --pre -f https://sklearn-nightly.scdn8.secure.raxcdn.com scikit-learn"
   ]
  },
  {
   "cell_type": "code",
   "execution_count": 127,
   "metadata": {
    "collapsed": true
   },
   "outputs": [],
   "source": [
    "import numpy as np\n",
    "import pandas as pd\n",
    "import matplotlib.pyplot as plt\n",
    "from sklearn.utils.validation import check_random_state\n",
    "from sklearn.ensemble import ExtraTreesRegressor, RandomForestRegressor, GradientBoostingRegressor, AdaBoostRegressor\n",
    "from sklearn.linear_model import LinearRegression\n",
    "from sklearn.model_selection import GridSearchCV"
   ]
  },
  {
   "cell_type": "markdown",
   "metadata": {},
   "source": [
    "# Load in Data"
   ]
  },
  {
   "cell_type": "code",
   "execution_count": 3,
   "metadata": {
    "collapsed": true
   },
   "outputs": [],
   "source": [
    "df = pd.read_csv('beijing_master.csv')\n",
    "df_gr = df.groupby('date').mean()\n",
    "df_gr = df_gr.drop(['year', 'hour'], axis = 1)"
   ]
  },
  {
   "cell_type": "code",
   "execution_count": 4,
   "metadata": {},
   "outputs": [
    {
     "data": {
      "text/html": [
       "<div>\n",
       "<style scoped>\n",
       "    .dataframe tbody tr th:only-of-type {\n",
       "        vertical-align: middle;\n",
       "    }\n",
       "\n",
       "    .dataframe tbody tr th {\n",
       "        vertical-align: top;\n",
       "    }\n",
       "\n",
       "    .dataframe thead th {\n",
       "        text-align: right;\n",
       "    }\n",
       "</style>\n",
       "<table border=\"1\" class=\"dataframe\">\n",
       "  <thead>\n",
       "    <tr style=\"text-align: right;\">\n",
       "      <th></th>\n",
       "      <th>month</th>\n",
       "      <th>day</th>\n",
       "      <th>PM2.5</th>\n",
       "      <th>PM10</th>\n",
       "      <th>SO2</th>\n",
       "      <th>NO2</th>\n",
       "      <th>CO</th>\n",
       "      <th>O3</th>\n",
       "      <th>TEMP</th>\n",
       "      <th>PRES</th>\n",
       "      <th>...</th>\n",
       "      <th>WNW</th>\n",
       "      <th>WSW</th>\n",
       "      <th>AQI_PM2.5</th>\n",
       "      <th>AQI_PM10</th>\n",
       "      <th>AQI_CO</th>\n",
       "      <th>AQI_NO2</th>\n",
       "      <th>AQI_SO2</th>\n",
       "      <th>AQI_O3</th>\n",
       "      <th>AQI</th>\n",
       "      <th>weekday</th>\n",
       "    </tr>\n",
       "    <tr>\n",
       "      <th>date</th>\n",
       "      <th></th>\n",
       "      <th></th>\n",
       "      <th></th>\n",
       "      <th></th>\n",
       "      <th></th>\n",
       "      <th></th>\n",
       "      <th></th>\n",
       "      <th></th>\n",
       "      <th></th>\n",
       "      <th></th>\n",
       "      <th></th>\n",
       "      <th></th>\n",
       "      <th></th>\n",
       "      <th></th>\n",
       "      <th></th>\n",
       "      <th></th>\n",
       "      <th></th>\n",
       "      <th></th>\n",
       "      <th></th>\n",
       "      <th></th>\n",
       "      <th></th>\n",
       "    </tr>\n",
       "  </thead>\n",
       "  <tbody>\n",
       "    <tr>\n",
       "      <th>2013-03-01</th>\n",
       "      <td>3.0</td>\n",
       "      <td>1.0</td>\n",
       "      <td>7.261364</td>\n",
       "      <td>13.275486</td>\n",
       "      <td>3.505375</td>\n",
       "      <td>14.341677</td>\n",
       "      <td>0.348265</td>\n",
       "      <td>0.032490</td>\n",
       "      <td>1.093182</td>\n",
       "      <td>1026.630303</td>\n",
       "      <td>...</td>\n",
       "      <td>0.018939</td>\n",
       "      <td>0.000000</td>\n",
       "      <td>23.446285</td>\n",
       "      <td>11.968818</td>\n",
       "      <td>3.957552</td>\n",
       "      <td>13.529884</td>\n",
       "      <td>5.007678</td>\n",
       "      <td>30.083737</td>\n",
       "      <td>35.388329</td>\n",
       "      <td>1.0</td>\n",
       "    </tr>\n",
       "    <tr>\n",
       "      <th>2013-03-02</th>\n",
       "      <td>3.0</td>\n",
       "      <td>2.0</td>\n",
       "      <td>31.526515</td>\n",
       "      <td>40.919940</td>\n",
       "      <td>11.294616</td>\n",
       "      <td>28.053480</td>\n",
       "      <td>0.772689</td>\n",
       "      <td>0.015471</td>\n",
       "      <td>0.222348</td>\n",
       "      <td>1026.601136</td>\n",
       "      <td>...</td>\n",
       "      <td>0.034091</td>\n",
       "      <td>0.060606</td>\n",
       "      <td>74.560500</td>\n",
       "      <td>33.772307</td>\n",
       "      <td>8.780553</td>\n",
       "      <td>26.109911</td>\n",
       "      <td>16.135166</td>\n",
       "      <td>14.324617</td>\n",
       "      <td>78.379442</td>\n",
       "      <td>0.0</td>\n",
       "    </tr>\n",
       "    <tr>\n",
       "      <th>2013-03-03</th>\n",
       "      <td>3.0</td>\n",
       "      <td>3.0</td>\n",
       "      <td>77.772727</td>\n",
       "      <td>109.344697</td>\n",
       "      <td>17.254908</td>\n",
       "      <td>37.503760</td>\n",
       "      <td>1.419104</td>\n",
       "      <td>0.011585</td>\n",
       "      <td>5.256818</td>\n",
       "      <td>1014.256061</td>\n",
       "      <td>...</td>\n",
       "      <td>0.140152</td>\n",
       "      <td>0.015152</td>\n",
       "      <td>144.025014</td>\n",
       "      <td>77.398620</td>\n",
       "      <td>16.126176</td>\n",
       "      <td>34.947023</td>\n",
       "      <td>24.430721</td>\n",
       "      <td>10.727299</td>\n",
       "      <td>144.425585</td>\n",
       "      <td>0.0</td>\n",
       "    </tr>\n",
       "    <tr>\n",
       "      <th>2013-03-04</th>\n",
       "      <td>3.0</td>\n",
       "      <td>4.0</td>\n",
       "      <td>23.176567</td>\n",
       "      <td>41.445940</td>\n",
       "      <td>6.819097</td>\n",
       "      <td>22.596189</td>\n",
       "      <td>0.604732</td>\n",
       "      <td>0.028184</td>\n",
       "      <td>9.626515</td>\n",
       "      <td>1017.303030</td>\n",
       "      <td>...</td>\n",
       "      <td>0.022727</td>\n",
       "      <td>0.018939</td>\n",
       "      <td>60.183106</td>\n",
       "      <td>34.758265</td>\n",
       "      <td>6.871956</td>\n",
       "      <td>20.962543</td>\n",
       "      <td>9.741567</td>\n",
       "      <td>26.096449</td>\n",
       "      <td>64.684175</td>\n",
       "      <td>1.0</td>\n",
       "    </tr>\n",
       "    <tr>\n",
       "      <th>2013-03-05</th>\n",
       "      <td>3.0</td>\n",
       "      <td>5.0</td>\n",
       "      <td>129.179116</td>\n",
       "      <td>158.106061</td>\n",
       "      <td>25.174703</td>\n",
       "      <td>51.026083</td>\n",
       "      <td>1.649297</td>\n",
       "      <td>0.037918</td>\n",
       "      <td>6.574621</td>\n",
       "      <td>1010.608712</td>\n",
       "      <td>...</td>\n",
       "      <td>0.041667</td>\n",
       "      <td>0.000000</td>\n",
       "      <td>187.914737</td>\n",
       "      <td>102.096521</td>\n",
       "      <td>18.742008</td>\n",
       "      <td>48.662423</td>\n",
       "      <td>34.819271</td>\n",
       "      <td>35.109718</td>\n",
       "      <td>192.124685</td>\n",
       "      <td>1.0</td>\n",
       "    </tr>\n",
       "    <tr>\n",
       "      <th>...</th>\n",
       "      <td>...</td>\n",
       "      <td>...</td>\n",
       "      <td>...</td>\n",
       "      <td>...</td>\n",
       "      <td>...</td>\n",
       "      <td>...</td>\n",
       "      <td>...</td>\n",
       "      <td>...</td>\n",
       "      <td>...</td>\n",
       "      <td>...</td>\n",
       "      <td>...</td>\n",
       "      <td>...</td>\n",
       "      <td>...</td>\n",
       "      <td>...</td>\n",
       "      <td>...</td>\n",
       "      <td>...</td>\n",
       "      <td>...</td>\n",
       "      <td>...</td>\n",
       "      <td>...</td>\n",
       "      <td>...</td>\n",
       "      <td>...</td>\n",
       "    </tr>\n",
       "    <tr>\n",
       "      <th>2017-02-24</th>\n",
       "      <td>2.0</td>\n",
       "      <td>24.0</td>\n",
       "      <td>24.279938</td>\n",
       "      <td>37.878400</td>\n",
       "      <td>3.418476</td>\n",
       "      <td>21.716438</td>\n",
       "      <td>0.569965</td>\n",
       "      <td>0.022355</td>\n",
       "      <td>4.850379</td>\n",
       "      <td>1019.198106</td>\n",
       "      <td>...</td>\n",
       "      <td>0.200758</td>\n",
       "      <td>0.037879</td>\n",
       "      <td>64.979397</td>\n",
       "      <td>32.691370</td>\n",
       "      <td>6.476874</td>\n",
       "      <td>20.489548</td>\n",
       "      <td>4.883537</td>\n",
       "      <td>20.698901</td>\n",
       "      <td>66.482887</td>\n",
       "      <td>1.0</td>\n",
       "    </tr>\n",
       "    <tr>\n",
       "      <th>2017-02-25</th>\n",
       "      <td>2.0</td>\n",
       "      <td>25.0</td>\n",
       "      <td>11.770651</td>\n",
       "      <td>22.266852</td>\n",
       "      <td>2.082350</td>\n",
       "      <td>15.123112</td>\n",
       "      <td>0.390930</td>\n",
       "      <td>0.028563</td>\n",
       "      <td>7.021591</td>\n",
       "      <td>1017.010227</td>\n",
       "      <td>...</td>\n",
       "      <td>0.189394</td>\n",
       "      <td>0.071970</td>\n",
       "      <td>36.725308</td>\n",
       "      <td>20.476660</td>\n",
       "      <td>4.442383</td>\n",
       "      <td>14.267087</td>\n",
       "      <td>2.974786</td>\n",
       "      <td>30.928948</td>\n",
       "      <td>46.302496</td>\n",
       "      <td>0.0</td>\n",
       "    </tr>\n",
       "    <tr>\n",
       "      <th>2017-02-26</th>\n",
       "      <td>2.0</td>\n",
       "      <td>26.0</td>\n",
       "      <td>27.816106</td>\n",
       "      <td>45.149427</td>\n",
       "      <td>3.643582</td>\n",
       "      <td>24.807694</td>\n",
       "      <td>0.587603</td>\n",
       "      <td>0.020739</td>\n",
       "      <td>6.729167</td>\n",
       "      <td>1018.506818</td>\n",
       "      <td>...</td>\n",
       "      <td>0.018939</td>\n",
       "      <td>0.030303</td>\n",
       "      <td>74.424945</td>\n",
       "      <td>39.155889</td>\n",
       "      <td>6.677308</td>\n",
       "      <td>23.403485</td>\n",
       "      <td>5.205117</td>\n",
       "      <td>19.202728</td>\n",
       "      <td>74.575859</td>\n",
       "      <td>0.0</td>\n",
       "    </tr>\n",
       "    <tr>\n",
       "      <th>2017-02-27</th>\n",
       "      <td>2.0</td>\n",
       "      <td>27.0</td>\n",
       "      <td>66.816611</td>\n",
       "      <td>97.045753</td>\n",
       "      <td>6.062260</td>\n",
       "      <td>36.852067</td>\n",
       "      <td>1.073475</td>\n",
       "      <td>0.013933</td>\n",
       "      <td>7.699621</td>\n",
       "      <td>1015.343182</td>\n",
       "      <td>...</td>\n",
       "      <td>0.007576</td>\n",
       "      <td>0.030303</td>\n",
       "      <td>139.805923</td>\n",
       "      <td>71.871183</td>\n",
       "      <td>12.198582</td>\n",
       "      <td>34.471493</td>\n",
       "      <td>8.660372</td>\n",
       "      <td>13.816377</td>\n",
       "      <td>142.004456</td>\n",
       "      <td>1.0</td>\n",
       "    </tr>\n",
       "    <tr>\n",
       "      <th>2017-02-28</th>\n",
       "      <td>2.0</td>\n",
       "      <td>28.0</td>\n",
       "      <td>17.537767</td>\n",
       "      <td>31.447119</td>\n",
       "      <td>2.578817</td>\n",
       "      <td>16.945079</td>\n",
       "      <td>0.451468</td>\n",
       "      <td>0.029035</td>\n",
       "      <td>10.294697</td>\n",
       "      <td>1013.149621</td>\n",
       "      <td>...</td>\n",
       "      <td>0.151515</td>\n",
       "      <td>0.011364</td>\n",
       "      <td>49.530673</td>\n",
       "      <td>28.021143</td>\n",
       "      <td>5.130313</td>\n",
       "      <td>15.811089</td>\n",
       "      <td>3.684025</td>\n",
       "      <td>27.978045</td>\n",
       "      <td>56.315502</td>\n",
       "      <td>1.0</td>\n",
       "    </tr>\n",
       "  </tbody>\n",
       "</table>\n",
       "<p>1461 rows × 41 columns</p>\n",
       "</div>"
      ],
      "text/plain": [
       "            month   day       PM2.5        PM10        SO2        NO2  \\\n",
       "date                                                                    \n",
       "2013-03-01    3.0   1.0    7.261364   13.275486   3.505375  14.341677   \n",
       "2013-03-02    3.0   2.0   31.526515   40.919940  11.294616  28.053480   \n",
       "2013-03-03    3.0   3.0   77.772727  109.344697  17.254908  37.503760   \n",
       "2013-03-04    3.0   4.0   23.176567   41.445940   6.819097  22.596189   \n",
       "2013-03-05    3.0   5.0  129.179116  158.106061  25.174703  51.026083   \n",
       "...           ...   ...         ...         ...        ...        ...   \n",
       "2017-02-24    2.0  24.0   24.279938   37.878400   3.418476  21.716438   \n",
       "2017-02-25    2.0  25.0   11.770651   22.266852   2.082350  15.123112   \n",
       "2017-02-26    2.0  26.0   27.816106   45.149427   3.643582  24.807694   \n",
       "2017-02-27    2.0  27.0   66.816611   97.045753   6.062260  36.852067   \n",
       "2017-02-28    2.0  28.0   17.537767   31.447119   2.578817  16.945079   \n",
       "\n",
       "                  CO        O3       TEMP         PRES  ...       WNW  \\\n",
       "date                                                    ...             \n",
       "2013-03-01  0.348265  0.032490   1.093182  1026.630303  ...  0.018939   \n",
       "2013-03-02  0.772689  0.015471   0.222348  1026.601136  ...  0.034091   \n",
       "2013-03-03  1.419104  0.011585   5.256818  1014.256061  ...  0.140152   \n",
       "2013-03-04  0.604732  0.028184   9.626515  1017.303030  ...  0.022727   \n",
       "2013-03-05  1.649297  0.037918   6.574621  1010.608712  ...  0.041667   \n",
       "...              ...       ...        ...          ...  ...       ...   \n",
       "2017-02-24  0.569965  0.022355   4.850379  1019.198106  ...  0.200758   \n",
       "2017-02-25  0.390930  0.028563   7.021591  1017.010227  ...  0.189394   \n",
       "2017-02-26  0.587603  0.020739   6.729167  1018.506818  ...  0.018939   \n",
       "2017-02-27  1.073475  0.013933   7.699621  1015.343182  ...  0.007576   \n",
       "2017-02-28  0.451468  0.029035  10.294697  1013.149621  ...  0.151515   \n",
       "\n",
       "                 WSW   AQI_PM2.5    AQI_PM10     AQI_CO    AQI_NO2    AQI_SO2  \\\n",
       "date                                                                            \n",
       "2013-03-01  0.000000   23.446285   11.968818   3.957552  13.529884   5.007678   \n",
       "2013-03-02  0.060606   74.560500   33.772307   8.780553  26.109911  16.135166   \n",
       "2013-03-03  0.015152  144.025014   77.398620  16.126176  34.947023  24.430721   \n",
       "2013-03-04  0.018939   60.183106   34.758265   6.871956  20.962543   9.741567   \n",
       "2013-03-05  0.000000  187.914737  102.096521  18.742008  48.662423  34.819271   \n",
       "...              ...         ...         ...        ...        ...        ...   \n",
       "2017-02-24  0.037879   64.979397   32.691370   6.476874  20.489548   4.883537   \n",
       "2017-02-25  0.071970   36.725308   20.476660   4.442383  14.267087   2.974786   \n",
       "2017-02-26  0.030303   74.424945   39.155889   6.677308  23.403485   5.205117   \n",
       "2017-02-27  0.030303  139.805923   71.871183  12.198582  34.471493   8.660372   \n",
       "2017-02-28  0.011364   49.530673   28.021143   5.130313  15.811089   3.684025   \n",
       "\n",
       "               AQI_O3         AQI  weekday  \n",
       "date                                        \n",
       "2013-03-01  30.083737   35.388329      1.0  \n",
       "2013-03-02  14.324617   78.379442      0.0  \n",
       "2013-03-03  10.727299  144.425585      0.0  \n",
       "2013-03-04  26.096449   64.684175      1.0  \n",
       "2013-03-05  35.109718  192.124685      1.0  \n",
       "...               ...         ...      ...  \n",
       "2017-02-24  20.698901   66.482887      1.0  \n",
       "2017-02-25  30.928948   46.302496      0.0  \n",
       "2017-02-26  19.202728   74.575859      0.0  \n",
       "2017-02-27  13.816377  142.004456      1.0  \n",
       "2017-02-28  27.978045   56.315502      1.0  \n",
       "\n",
       "[1461 rows x 41 columns]"
      ]
     },
     "execution_count": 4,
     "metadata": {},
     "output_type": "execute_result"
    }
   ],
   "source": [
    "df_gr"
   ]
  },
  {
   "cell_type": "markdown",
   "metadata": {},
   "source": [
    "# Segregate Train and Test "
   ]
  },
  {
   "cell_type": "code",
   "execution_count": 5,
   "metadata": {
    "collapsed": true
   },
   "outputs": [],
   "source": [
    "train = df_gr.iloc[:-365]\n",
    "test = df_gr.iloc[-365:]"
   ]
  },
  {
   "cell_type": "markdown",
   "metadata": {},
   "source": [
    "# Multivariate Output Target: Pollutant Outcome Information "
   ]
  },
  {
   "cell_type": "code",
   "execution_count": 6,
   "metadata": {
    "collapsed": true
   },
   "outputs": [],
   "source": [
    "#no feature selection"
   ]
  },
  {
   "cell_type": "code",
   "execution_count": 7,
   "metadata": {
    "collapsed": true
   },
   "outputs": [],
   "source": [
    "X_train = train[['month', 'day', 'TEMP',\n",
    "       'PRES', 'DEWP', 'RAIN', 'WSPM', 'fall', 'spring', 'summer', 'winter',\n",
    "       'E', 'ENE', 'ESE', 'N', 'NE', 'NNE', 'NNW', 'NW', 'S', 'SE', 'SSE',\n",
    "       'SSW', 'SW', 'W', 'WNW', 'WSW', 'weekday', 'CO', 'NO2', 'SO2']]\n",
    "\n",
    "X_test = test[['month', 'day', 'TEMP',\n",
    "       'PRES', 'DEWP', 'RAIN', 'WSPM', 'fall', 'spring', 'summer', 'winter',\n",
    "       'E', 'ENE', 'ESE', 'N', 'NE', 'NNE', 'NNW', 'NW', 'S', 'SE', 'SSE',\n",
    "       'SSW', 'SW', 'W', 'WNW', 'WSW', 'weekday', 'CO', 'NO2', 'SO2']]\n",
    "\n",
    "y_train = train[['PM2.5', 'PM10','O3']]\n",
    "y_test = test[['PM2.5', 'PM10','O3']]"
   ]
  },
  {
   "cell_type": "markdown",
   "metadata": {},
   "source": [
    "# Set up Model for Multivariate Output Target"
   ]
  },
  {
   "cell_type": "code",
   "execution_count": 8,
   "metadata": {
    "collapsed": true
   },
   "outputs": [],
   "source": [
    "model = ExtraTreesRegressor() #regular model fit"
   ]
  },
  {
   "cell_type": "code",
   "execution_count": 9,
   "metadata": {},
   "outputs": [
    {
     "data": {
      "text/plain": [
       "ExtraTreesRegressor(bootstrap=False, ccp_alpha=0.0, criterion='mse',\n",
       "                    max_depth=None, max_features='auto', max_leaf_nodes=None,\n",
       "                    max_samples=None, min_impurity_decrease=0.0,\n",
       "                    min_impurity_split=None, min_samples_leaf=1,\n",
       "                    min_samples_split=2, min_weight_fraction_leaf=0.0,\n",
       "                    n_estimators=100, n_jobs=None, oob_score=False,\n",
       "                    random_state=None, verbose=0, warm_start=False)"
      ]
     },
     "execution_count": 9,
     "metadata": {},
     "output_type": "execute_result"
    }
   ],
   "source": [
    "model.fit(X_train, y_train)"
   ]
  },
  {
   "cell_type": "code",
   "execution_count": 10,
   "metadata": {},
   "outputs": [
    {
     "data": {
      "image/png": "[encoded data removed]",
      "text/plain": [
       "<Figure size 432x288 with 1 Axes>"
      ]
     },
     "metadata": {
      "needs_background": "light"
     },
     "output_type": "display_data"
    }
   ],
   "source": [
    "#plot feature importances\n",
    "ft = pd.DataFrame({'fi': model.feature_importances_, 'feature': X_train.columns})\n",
    "\n",
    "ax = ft.plot.barh(x='feature')\n",
    "plt.show()"
   ]
  },
  {
   "cell_type": "code",
   "execution_count": 11,
   "metadata": {},
   "outputs": [
    {
     "data": {
      "text/html": [
       "<div>\n",
       "<style scoped>\n",
       "    .dataframe tbody tr th:only-of-type {\n",
       "        vertical-align: middle;\n",
       "    }\n",
       "\n",
       "    .dataframe tbody tr th {\n",
       "        vertical-align: top;\n",
       "    }\n",
       "\n",
       "    .dataframe thead th {\n",
       "        text-align: right;\n",
       "    }\n",
       "</style>\n",
       "<table border=\"1\" class=\"dataframe\">\n",
       "  <thead>\n",
       "    <tr style=\"text-align: right;\">\n",
       "      <th></th>\n",
       "      <th>PM2.5</th>\n",
       "      <th>PM10</th>\n",
       "      <th>O3</th>\n",
       "    </tr>\n",
       "    <tr>\n",
       "      <th>date</th>\n",
       "      <th></th>\n",
       "      <th></th>\n",
       "      <th></th>\n",
       "    </tr>\n",
       "  </thead>\n",
       "  <tbody>\n",
       "    <tr>\n",
       "      <th>2016-03-01</th>\n",
       "      <td>129.990336</td>\n",
       "      <td>155.809733</td>\n",
       "      <td>0.016690</td>\n",
       "    </tr>\n",
       "    <tr>\n",
       "      <th>2016-03-02</th>\n",
       "      <td>193.863627</td>\n",
       "      <td>218.103776</td>\n",
       "      <td>0.019508</td>\n",
       "    </tr>\n",
       "    <tr>\n",
       "      <th>2016-03-03</th>\n",
       "      <td>230.827762</td>\n",
       "      <td>261.024487</td>\n",
       "      <td>0.012090</td>\n",
       "    </tr>\n",
       "    <tr>\n",
       "      <th>2016-03-04</th>\n",
       "      <td>256.812300</td>\n",
       "      <td>281.476801</td>\n",
       "      <td>0.007345</td>\n",
       "    </tr>\n",
       "    <tr>\n",
       "      <th>2016-03-05</th>\n",
       "      <td>23.362023</td>\n",
       "      <td>69.288704</td>\n",
       "      <td>0.036099</td>\n",
       "    </tr>\n",
       "    <tr>\n",
       "      <th>...</th>\n",
       "      <td>...</td>\n",
       "      <td>...</td>\n",
       "      <td>...</td>\n",
       "    </tr>\n",
       "    <tr>\n",
       "      <th>2017-02-24</th>\n",
       "      <td>30.597964</td>\n",
       "      <td>48.308122</td>\n",
       "      <td>0.019918</td>\n",
       "    </tr>\n",
       "    <tr>\n",
       "      <th>2017-02-25</th>\n",
       "      <td>19.191986</td>\n",
       "      <td>37.628162</td>\n",
       "      <td>0.026730</td>\n",
       "    </tr>\n",
       "    <tr>\n",
       "      <th>2017-02-26</th>\n",
       "      <td>33.075098</td>\n",
       "      <td>56.449028</td>\n",
       "      <td>0.022969</td>\n",
       "    </tr>\n",
       "    <tr>\n",
       "      <th>2017-02-27</th>\n",
       "      <td>91.789854</td>\n",
       "      <td>118.904190</td>\n",
       "      <td>0.014755</td>\n",
       "    </tr>\n",
       "    <tr>\n",
       "      <th>2017-02-28</th>\n",
       "      <td>23.940941</td>\n",
       "      <td>41.310419</td>\n",
       "      <td>0.023182</td>\n",
       "    </tr>\n",
       "  </tbody>\n",
       "</table>\n",
       "<p>365 rows × 3 columns</p>\n",
       "</div>"
      ],
      "text/plain": [
       "                 PM2.5        PM10        O3\n",
       "date                                        \n",
       "2016-03-01  129.990336  155.809733  0.016690\n",
       "2016-03-02  193.863627  218.103776  0.019508\n",
       "2016-03-03  230.827762  261.024487  0.012090\n",
       "2016-03-04  256.812300  281.476801  0.007345\n",
       "2016-03-05   23.362023   69.288704  0.036099\n",
       "...                ...         ...       ...\n",
       "2017-02-24   30.597964   48.308122  0.019918\n",
       "2017-02-25   19.191986   37.628162  0.026730\n",
       "2017-02-26   33.075098   56.449028  0.022969\n",
       "2017-02-27   91.789854  118.904190  0.014755\n",
       "2017-02-28   23.940941   41.310419  0.023182\n",
       "\n",
       "[365 rows x 3 columns]"
      ]
     },
     "execution_count": 11,
     "metadata": {},
     "output_type": "execute_result"
    }
   ],
   "source": [
    "results = model.predict(X_test)\n",
    "results = pd.DataFrame(results, columns = y_test.columns, index = test.index)\n"
   ]
  },
  {
   "cell_type": "code",
   "execution_count": 12,
   "metadata": {
    "collapsed": true
   },
   "outputs": [],
   "source": [
    "#convert pollutant predictions to corresponding AQI preds (df_aqi) and pollutant info from y_test to AQIs (y_test_aqi)\n",
    "#aqi_target, aqi_preds = max of the respective AQI columns.\n",
    "\n",
    "from aqi_calc import compute_aqi\n",
    "\n",
    "aqi_names = {'PM2.5': 'pm2', 'PM10': 'pm10','O3': 'o3'}\n",
    "\n",
    "df_aqi = pd.DataFrame()\n",
    "y_test_aqi = pd.DataFrame()\n",
    "\n",
    "for i in aqi_names.keys(): \n",
    "    insert_col = 'AQI_' + i\n",
    "    df_aqi[insert_col] = results[i].apply(lambda x: compute_aqi(x, aqi_names[i]))\n",
    "    y_test_aqi[insert_col] = y_test[i].apply(lambda x: compute_aqi(x, aqi_names[i]))\n",
    "\n",
    "df_aqi['AQI'] = df_aqi.max(axis = 1)\n",
    "y_test_aqi['AQI'] = y_test_aqi.max(axis = 1)\n",
    "\n",
    "aqi_target = y_test_aqi['AQI']\n",
    "aqi_preds = df_aqi['AQI']"
   ]
  },
  {
   "cell_type": "code",
   "execution_count": 13,
   "metadata": {},
   "outputs": [
    {
     "data": {
      "text/html": [
       "<div>\n",
       "<style scoped>\n",
       "    .dataframe tbody tr th:only-of-type {\n",
       "        vertical-align: middle;\n",
       "    }\n",
       "\n",
       "    .dataframe tbody tr th {\n",
       "        vertical-align: top;\n",
       "    }\n",
       "\n",
       "    .dataframe thead th {\n",
       "        text-align: right;\n",
       "    }\n",
       "</style>\n",
       "<table border=\"1\" class=\"dataframe\">\n",
       "  <thead>\n",
       "    <tr style=\"text-align: right;\">\n",
       "      <th></th>\n",
       "      <th>col1</th>\n",
       "      <th>col2</th>\n",
       "    </tr>\n",
       "    <tr>\n",
       "      <th>date</th>\n",
       "      <th></th>\n",
       "      <th></th>\n",
       "    </tr>\n",
       "  </thead>\n",
       "  <tbody>\n",
       "    <tr>\n",
       "      <th>2016-03-01</th>\n",
       "      <td>188.220571</td>\n",
       "      <td>178.895563</td>\n",
       "    </tr>\n",
       "    <tr>\n",
       "      <th>2016-03-02</th>\n",
       "      <td>243.972964</td>\n",
       "      <td>207.157224</td>\n",
       "    </tr>\n",
       "    <tr>\n",
       "      <th>2016-03-03</th>\n",
       "      <td>280.604089</td>\n",
       "      <td>317.209189</td>\n",
       "    </tr>\n",
       "    <tr>\n",
       "      <th>2016-03-04</th>\n",
       "      <td>306.026602</td>\n",
       "      <td>362.381447</td>\n",
       "    </tr>\n",
       "    <tr>\n",
       "      <th>2016-03-05</th>\n",
       "      <td>66.471452</td>\n",
       "      <td>175.644360</td>\n",
       "    </tr>\n",
       "    <tr>\n",
       "      <th>...</th>\n",
       "      <td>...</td>\n",
       "      <td>...</td>\n",
       "    </tr>\n",
       "    <tr>\n",
       "      <th>2017-02-24</th>\n",
       "      <td>80.710854</td>\n",
       "      <td>68.277790</td>\n",
       "    </tr>\n",
       "    <tr>\n",
       "      <th>2017-02-25</th>\n",
       "      <td>58.265353</td>\n",
       "      <td>38.216399</td>\n",
       "    </tr>\n",
       "    <tr>\n",
       "      <th>2017-02-26</th>\n",
       "      <td>85.585535</td>\n",
       "      <td>75.236513</td>\n",
       "    </tr>\n",
       "    <tr>\n",
       "      <th>2017-02-27</th>\n",
       "      <td>166.173178</td>\n",
       "      <td>151.759881</td>\n",
       "    </tr>\n",
       "    <tr>\n",
       "      <th>2017-02-28</th>\n",
       "      <td>67.610688</td>\n",
       "      <td>55.010063</td>\n",
       "    </tr>\n",
       "  </tbody>\n",
       "</table>\n",
       "<p>365 rows × 2 columns</p>\n",
       "</div>"
      ],
      "text/plain": [
       "                  col1        col2\n",
       "date                              \n",
       "2016-03-01  188.220571  178.895563\n",
       "2016-03-02  243.972964  207.157224\n",
       "2016-03-03  280.604089  317.209189\n",
       "2016-03-04  306.026602  362.381447\n",
       "2016-03-05   66.471452  175.644360\n",
       "...                ...         ...\n",
       "2017-02-24   80.710854   68.277790\n",
       "2017-02-25   58.265353   38.216399\n",
       "2017-02-26   85.585535   75.236513\n",
       "2017-02-27  166.173178  151.759881\n",
       "2017-02-28   67.610688   55.010063\n",
       "\n",
       "[365 rows x 2 columns]"
      ]
     },
     "execution_count": 13,
     "metadata": {},
     "output_type": "execute_result"
    }
   ],
   "source": [
    "x = pd.DataFrame({'col1': aqi_preds, 'col2': aqi_target})\n"
   ]
  },
  {
   "cell_type": "code",
   "execution_count": 14,
   "metadata": {},
   "outputs": [
    {
     "data": {
      "text/plain": [
       "(32.97919248579948, 72.37793998897276)"
      ]
     },
     "execution_count": 14,
     "metadata": {},
     "output_type": "execute_result"
    }
   ],
   "source": [
    "#compute the RMSE of the model\n",
    "\n",
    "from sklearn.metrics import mean_squared_error\n",
    "from math import sqrt\n",
    "rms = sqrt(mean_squared_error(x['col1'], x['col2'])) \n",
    "\n",
    "baseline_target = [np.mean(aqi_target)]*len(aqi_target)\n",
    "rms_b = sqrt(mean_squared_error(aqi_target, baseline_target))\n",
    "\n",
    "rms, rms_b"
   ]
  },
  {
   "cell_type": "markdown",
   "metadata": {},
   "source": [
    "Feature Selection MultiVariate Output Model"
   ]
  },
  {
   "cell_type": "code",
   "execution_count": 32,
   "metadata": {
    "collapsed": true
   },
   "outputs": [],
   "source": [
    "#run the model with some predictors dropped to test out the score\n",
    "\n",
    "X_train = train[['month', 'TEMP',\n",
    "       'PRES', 'RAIN', \n",
    "       'E', 'ENE', 'ESE', 'N', 'NE', 'NNE', 'NNW', 'NW', 'S', 'SE', 'SSE',\n",
    "       'SSW', 'SW', 'W', 'WNW', 'WSW', 'CO', 'NO2', 'SO2']]\n",
    "\n",
    "X_test = test[['month', 'TEMP',\n",
    "       'PRES','RAIN', \n",
    "       'E', 'ENE', 'ESE', 'N', 'NE', 'NNE', 'NNW', 'NW', 'S', 'SE', 'SSE',\n",
    "       'SSW', 'SW', 'W', 'WNW', 'WSW', 'CO', 'NO2', 'SO2']]\n",
    "\n",
    "y_train = train[['PM2.5', 'PM10','O3']]\n",
    "\n",
    "y_test = test[['PM2.5', 'PM10','O3']]\n",
    "\n",
    "\n"
   ]
  },
  {
   "cell_type": "code",
   "execution_count": 33,
   "metadata": {},
   "outputs": [
    {
     "data": {
      "text/html": [
       "<div>\n",
       "<style scoped>\n",
       "    .dataframe tbody tr th:only-of-type {\n",
       "        vertical-align: middle;\n",
       "    }\n",
       "\n",
       "    .dataframe tbody tr th {\n",
       "        vertical-align: top;\n",
       "    }\n",
       "\n",
       "    .dataframe thead th {\n",
       "        text-align: right;\n",
       "    }\n",
       "</style>\n",
       "<table border=\"1\" class=\"dataframe\">\n",
       "  <thead>\n",
       "    <tr style=\"text-align: right;\">\n",
       "      <th></th>\n",
       "      <th>PM2.5</th>\n",
       "      <th>PM10</th>\n",
       "      <th>O3</th>\n",
       "    </tr>\n",
       "    <tr>\n",
       "      <th>date</th>\n",
       "      <th></th>\n",
       "      <th></th>\n",
       "      <th></th>\n",
       "    </tr>\n",
       "  </thead>\n",
       "  <tbody>\n",
       "    <tr>\n",
       "      <th>2016-03-01</th>\n",
       "      <td>116.237425</td>\n",
       "      <td>141.080021</td>\n",
       "      <td>0.011980</td>\n",
       "    </tr>\n",
       "    <tr>\n",
       "      <th>2016-03-02</th>\n",
       "      <td>219.385271</td>\n",
       "      <td>239.279330</td>\n",
       "      <td>0.019651</td>\n",
       "    </tr>\n",
       "    <tr>\n",
       "      <th>2016-03-03</th>\n",
       "      <td>250.511892</td>\n",
       "      <td>274.383494</td>\n",
       "      <td>0.010653</td>\n",
       "    </tr>\n",
       "    <tr>\n",
       "      <th>2016-03-04</th>\n",
       "      <td>269.282449</td>\n",
       "      <td>294.709128</td>\n",
       "      <td>0.007258</td>\n",
       "    </tr>\n",
       "    <tr>\n",
       "      <th>2016-03-05</th>\n",
       "      <td>14.201765</td>\n",
       "      <td>39.647439</td>\n",
       "      <td>0.033153</td>\n",
       "    </tr>\n",
       "    <tr>\n",
       "      <th>...</th>\n",
       "      <td>...</td>\n",
       "      <td>...</td>\n",
       "      <td>...</td>\n",
       "    </tr>\n",
       "    <tr>\n",
       "      <th>2017-02-24</th>\n",
       "      <td>30.623886</td>\n",
       "      <td>61.759631</td>\n",
       "      <td>0.022052</td>\n",
       "    </tr>\n",
       "    <tr>\n",
       "      <th>2017-02-25</th>\n",
       "      <td>22.430434</td>\n",
       "      <td>55.156315</td>\n",
       "      <td>0.028796</td>\n",
       "    </tr>\n",
       "    <tr>\n",
       "      <th>2017-02-26</th>\n",
       "      <td>38.802612</td>\n",
       "      <td>64.177365</td>\n",
       "      <td>0.025313</td>\n",
       "    </tr>\n",
       "    <tr>\n",
       "      <th>2017-02-27</th>\n",
       "      <td>103.622026</td>\n",
       "      <td>138.435476</td>\n",
       "      <td>0.019821</td>\n",
       "    </tr>\n",
       "    <tr>\n",
       "      <th>2017-02-28</th>\n",
       "      <td>29.987910</td>\n",
       "      <td>70.973729</td>\n",
       "      <td>0.029579</td>\n",
       "    </tr>\n",
       "  </tbody>\n",
       "</table>\n",
       "<p>365 rows × 3 columns</p>\n",
       "</div>"
      ],
      "text/plain": [
       "                 PM2.5        PM10        O3\n",
       "date                                        \n",
       "2016-03-01  116.237425  141.080021  0.011980\n",
       "2016-03-02  219.385271  239.279330  0.019651\n",
       "2016-03-03  250.511892  274.383494  0.010653\n",
       "2016-03-04  269.282449  294.709128  0.007258\n",
       "2016-03-05   14.201765   39.647439  0.033153\n",
       "...                ...         ...       ...\n",
       "2017-02-24   30.623886   61.759631  0.022052\n",
       "2017-02-25   22.430434   55.156315  0.028796\n",
       "2017-02-26   38.802612   64.177365  0.025313\n",
       "2017-02-27  103.622026  138.435476  0.019821\n",
       "2017-02-28   29.987910   70.973729  0.029579\n",
       "\n",
       "[365 rows x 3 columns]"
      ]
     },
     "execution_count": 33,
     "metadata": {},
     "output_type": "execute_result"
    }
   ],
   "source": [
    "model_ = ExtraTreesRegressor()\n",
    "model_.fit(X_train, y_train)\n",
    "results_ = model_.predict(X_test)\n",
    "results_ = pd.DataFrame(results_, columns = y_test.columns, index = test.index)\n",
    "results_"
   ]
  },
  {
   "cell_type": "code",
   "execution_count": 34,
   "metadata": {
    "collapsed": true
   },
   "outputs": [],
   "source": [
    "#convert pollutant predictions to corresponding AQI preds (df_aqi) and pollutant info from y_test to AQIs (y_test_aqi)\n",
    "#aqi_target, aqi_preds = max of the respective AQI columns.\n",
    "\n",
    "from aqi_calc import compute_aqi\n",
    "\n",
    "aqi_names = {'PM2.5': 'pm2', 'PM10': 'pm10', 'O3': 'o3'}\n",
    "\n",
    "df_aqi = pd.DataFrame()\n",
    "y_test_aqi = pd.DataFrame()\n",
    "\n",
    "for i in aqi_names.keys(): \n",
    "    insert_col = 'AQI_' + i\n",
    "    df_aqi[insert_col] = results_[i].apply(lambda x: compute_aqi(x, aqi_names[i]))\n",
    "    y_test_aqi[insert_col] = y_test[i].apply(lambda x: compute_aqi(x, aqi_names[i]))\n",
    "\n",
    "df_aqi['AQI'] = df_aqi.max(axis = 1)\n",
    "y_test_aqi['AQI'] = y_test_aqi.max(axis = 1)\n",
    "\n",
    "aqi_target = y_test_aqi['AQI']\n",
    "aqi_preds = df_aqi['AQI']"
   ]
  },
  {
   "cell_type": "code",
   "execution_count": 35,
   "metadata": {},
   "outputs": [
    {
     "data": {
      "text/html": [
       "<div>\n",
       "<style scoped>\n",
       "    .dataframe tbody tr th:only-of-type {\n",
       "        vertical-align: middle;\n",
       "    }\n",
       "\n",
       "    .dataframe tbody tr th {\n",
       "        vertical-align: top;\n",
       "    }\n",
       "\n",
       "    .dataframe thead th {\n",
       "        text-align: right;\n",
       "    }\n",
       "</style>\n",
       "<table border=\"1\" class=\"dataframe\">\n",
       "  <thead>\n",
       "    <tr style=\"text-align: right;\">\n",
       "      <th></th>\n",
       "      <th>col1</th>\n",
       "      <th>col2</th>\n",
       "    </tr>\n",
       "    <tr>\n",
       "      <th>date</th>\n",
       "      <th></th>\n",
       "      <th></th>\n",
       "    </tr>\n",
       "  </thead>\n",
       "  <tbody>\n",
       "    <tr>\n",
       "      <th>2016-03-01</th>\n",
       "      <td>180.283084</td>\n",
       "      <td>178.895563</td>\n",
       "    </tr>\n",
       "    <tr>\n",
       "      <th>2016-03-02</th>\n",
       "      <td>269.264683</td>\n",
       "      <td>207.157224</td>\n",
       "    </tr>\n",
       "    <tr>\n",
       "      <th>2016-03-03</th>\n",
       "      <td>301.009470</td>\n",
       "      <td>317.209189</td>\n",
       "    </tr>\n",
       "    <tr>\n",
       "      <th>2016-03-04</th>\n",
       "      <td>315.956812</td>\n",
       "      <td>362.381447</td>\n",
       "    </tr>\n",
       "    <tr>\n",
       "      <th>2016-03-05</th>\n",
       "      <td>46.109627</td>\n",
       "      <td>175.644360</td>\n",
       "    </tr>\n",
       "    <tr>\n",
       "      <th>...</th>\n",
       "      <td>...</td>\n",
       "      <td>...</td>\n",
       "    </tr>\n",
       "    <tr>\n",
       "      <th>2017-02-24</th>\n",
       "      <td>80.761863</td>\n",
       "      <td>68.277790</td>\n",
       "    </tr>\n",
       "    <tr>\n",
       "      <th>2017-02-25</th>\n",
       "      <td>64.638203</td>\n",
       "      <td>38.216399</td>\n",
       "    </tr>\n",
       "    <tr>\n",
       "      <th>2017-02-26</th>\n",
       "      <td>96.856546</td>\n",
       "      <td>75.236513</td>\n",
       "    </tr>\n",
       "    <tr>\n",
       "      <th>2017-02-27</th>\n",
       "      <td>173.002112</td>\n",
       "      <td>151.759881</td>\n",
       "    </tr>\n",
       "    <tr>\n",
       "      <th>2017-02-28</th>\n",
       "      <td>79.510345</td>\n",
       "      <td>55.010063</td>\n",
       "    </tr>\n",
       "  </tbody>\n",
       "</table>\n",
       "<p>365 rows × 2 columns</p>\n",
       "</div>"
      ],
      "text/plain": [
       "                  col1        col2\n",
       "date                              \n",
       "2016-03-01  180.283084  178.895563\n",
       "2016-03-02  269.264683  207.157224\n",
       "2016-03-03  301.009470  317.209189\n",
       "2016-03-04  315.956812  362.381447\n",
       "2016-03-05   46.109627  175.644360\n",
       "...                ...         ...\n",
       "2017-02-24   80.761863   68.277790\n",
       "2017-02-25   64.638203   38.216399\n",
       "2017-02-26   96.856546   75.236513\n",
       "2017-02-27  173.002112  151.759881\n",
       "2017-02-28   79.510345   55.010063\n",
       "\n",
       "[365 rows x 2 columns]"
      ]
     },
     "execution_count": 35,
     "metadata": {},
     "output_type": "execute_result"
    }
   ],
   "source": [
    "x_ = pd.DataFrame({'col1': aqi_preds, 'col2': aqi_target})\n",
    "x_"
   ]
  },
  {
   "cell_type": "code",
   "execution_count": 36,
   "metadata": {},
   "outputs": [
    {
     "data": {
      "text/plain": [
       "(33.00756667096332, 72.37793998897276)"
      ]
     },
     "execution_count": 36,
     "metadata": {},
     "output_type": "execute_result"
    }
   ],
   "source": [
    "rms = sqrt(mean_squared_error(aqi_target, aqi_preds)) \n",
    "\n",
    "baseline_target = [np.mean(aqi_target)]*len(aqi_target)\n",
    "rms_b = sqrt(mean_squared_error(aqi_target, baseline_target))\n",
    "\n",
    "rms, rms_b"
   ]
  },
  {
   "cell_type": "code",
   "execution_count": 136,
   "metadata": {
    "collapsed": true
   },
   "outputs": [],
   "source": [
    "#choose feature selected train model for tuning hyperparameters"
   ]
  },
  {
   "cell_type": "code",
   "execution_count": 37,
   "metadata": {
    "collapsed": true
   },
   "outputs": [],
   "source": [
    "param_grid = {\n",
    "    'bootstrap': [True, False],\n",
    "    'max_depth': [80, 90, 100, 110, 120, 130, 140, 150],\n",
    "    'max_features': [3, 4, 5, 6, 7, 8, 9, 10],\n",
    "    'min_samples_leaf': [3, 4, 5],\n",
    "    'n_estimators': [100, 120, 140, 160, 180, 200]\n",
    "}\n",
    "\n",
    "grid_search = GridSearchCV(estimator = model_,\n",
    "                          param_grid = param_grid, \n",
    "                          cv = 3, \n",
    "                           n_jobs = -1,\n",
    "                          verbose = 2)"
   ]
  },
  {
   "cell_type": "code",
   "execution_count": 39,
   "metadata": {},
   "outputs": [
    {
     "name": "stdout",
     "output_type": "stream",
     "text": [
      "Fitting 3 folds for each of 2304 candidates, totalling 6912 fits\n"
     ]
    },
    {
     "name": "stderr",
     "output_type": "stream",
     "text": [
      "[Parallel(n_jobs=-1)]: Using backend LokyBackend with 2 concurrent workers.\n",
      "[Parallel(n_jobs=-1)]: Done  37 tasks      | elapsed:   14.1s\n",
      "[Parallel(n_jobs=-1)]: Done 158 tasks      | elapsed:   40.6s\n",
      "[Parallel(n_jobs=-1)]: Done 361 tasks      | elapsed:  1.4min\n",
      "[Parallel(n_jobs=-1)]: Done 644 tasks      | elapsed:  2.4min\n",
      "[Parallel(n_jobs=-1)]: Done 1009 tasks      | elapsed:  3.7min\n",
      "[Parallel(n_jobs=-1)]: Done 1454 tasks      | elapsed:  5.1min\n",
      "[Parallel(n_jobs=-1)]: Done 1981 tasks      | elapsed: 44.0min\n",
      "[Parallel(n_jobs=-1)]: Done 2588 tasks      | elapsed: 46.2min\n",
      "[Parallel(n_jobs=-1)]: Done 3277 tasks      | elapsed: 48.5min\n",
      "[Parallel(n_jobs=-1)]: Done 4046 tasks      | elapsed: 51.2min\n",
      "[Parallel(n_jobs=-1)]: Done 4897 tasks      | elapsed: 53.9min\n",
      "[Parallel(n_jobs=-1)]: Done 5828 tasks      | elapsed: 56.9min\n",
      "[Parallel(n_jobs=-1)]: Done 6841 tasks      | elapsed: 60.2min\n",
      "[Parallel(n_jobs=-1)]: Done 6912 out of 6912 | elapsed: 60.4min finished\n"
     ]
    },
    {
     "data": {
      "text/plain": [
       "GridSearchCV(cv=3, error_score=nan,\n",
       "             estimator=ExtraTreesRegressor(bootstrap=False, ccp_alpha=0.0,\n",
       "                                           criterion='mse', max_depth=None,\n",
       "                                           max_features='auto',\n",
       "                                           max_leaf_nodes=None,\n",
       "                                           max_samples=None,\n",
       "                                           min_impurity_decrease=0.0,\n",
       "                                           min_impurity_split=None,\n",
       "                                           min_samples_leaf=1,\n",
       "                                           min_samples_split=2,\n",
       "                                           min_weight_fraction_leaf=0.0,\n",
       "                                           n_estimators=100, n_jobs=None,\n",
       "                                           oob_score=False, random_state=None,\n",
       "                                           verbose=0, warm_start=False),\n",
       "             iid='deprecated', n_jobs=-1,\n",
       "             param_grid={'bootstrap': [True, False],\n",
       "                         'max_depth': [80, 90, 100, 110, 120, 130, 140, 150],\n",
       "                         'max_features': [3, 4, 5, 6, 7, 8, 9, 10],\n",
       "                         'min_samples_leaf': [3, 4, 5],\n",
       "                         'n_estimators': [100, 120, 140, 160, 180, 200]},\n",
       "             pre_dispatch='2*n_jobs', refit=True, return_train_score=False,\n",
       "             scoring=None, verbose=2)"
      ]
     },
     "execution_count": 39,
     "metadata": {},
     "output_type": "execute_result"
    }
   ],
   "source": [
    "grid_search.fit(X_train, y_train)"
   ]
  },
  {
   "cell_type": "code",
   "execution_count": 61,
   "metadata": {},
   "outputs": [
    {
     "data": {
      "text/plain": [
       "{'bootstrap': False,\n",
       " 'max_depth': 80,\n",
       " 'max_features': 10,\n",
       " 'min_samples_leaf': 3,\n",
       " 'n_estimators': 120}"
      ]
     },
     "execution_count": 61,
     "metadata": {},
     "output_type": "execute_result"
    }
   ],
   "source": [
    "grid_search.best_params_"
   ]
  },
  {
   "cell_type": "code",
   "execution_count": 40,
   "metadata": {
    "collapsed": true
   },
   "outputs": [],
   "source": [
    "grid_search.best_estimator_.fit(X_train, y_train)\n",
    "preds = grid_search.best_estimator_.predict(X_test)"
   ]
  },
  {
   "cell_type": "code",
   "execution_count": 41,
   "metadata": {},
   "outputs": [
    {
     "data": {
      "text/plain": [
       "array([[1.24451482e+02, 1.47666800e+02, 1.55873360e-02],\n",
       "       [1.97385098e+02, 2.19921941e+02, 1.52195790e-02],\n",
       "       [2.27872227e+02, 2.55408754e+02, 1.09652132e-02],\n",
       "       ...,\n",
       "       [4.46281605e+01, 7.22254112e+01, 2.71334771e-02],\n",
       "       [9.65269366e+01, 1.28267370e+02, 2.41386577e-02],\n",
       "       [3.08318314e+01, 6.23038305e+01, 2.80682882e-02]])"
      ]
     },
     "execution_count": 41,
     "metadata": {},
     "output_type": "execute_result"
    }
   ],
   "source": [
    "preds"
   ]
  },
  {
   "cell_type": "code",
   "execution_count": 45,
   "metadata": {},
   "outputs": [
    {
     "data": {
      "text/html": [
       "<div>\n",
       "<style scoped>\n",
       "    .dataframe tbody tr th:only-of-type {\n",
       "        vertical-align: middle;\n",
       "    }\n",
       "\n",
       "    .dataframe tbody tr th {\n",
       "        vertical-align: top;\n",
       "    }\n",
       "\n",
       "    .dataframe thead th {\n",
       "        text-align: right;\n",
       "    }\n",
       "</style>\n",
       "<table border=\"1\" class=\"dataframe\">\n",
       "  <thead>\n",
       "    <tr style=\"text-align: right;\">\n",
       "      <th></th>\n",
       "      <th>PM2.5</th>\n",
       "      <th>PM10</th>\n",
       "      <th>O3</th>\n",
       "    </tr>\n",
       "  </thead>\n",
       "  <tbody>\n",
       "    <tr>\n",
       "      <th>0</th>\n",
       "      <td>124.451482</td>\n",
       "      <td>147.666800</td>\n",
       "      <td>0.015587</td>\n",
       "    </tr>\n",
       "    <tr>\n",
       "      <th>1</th>\n",
       "      <td>197.385098</td>\n",
       "      <td>219.921941</td>\n",
       "      <td>0.015220</td>\n",
       "    </tr>\n",
       "    <tr>\n",
       "      <th>2</th>\n",
       "      <td>227.872227</td>\n",
       "      <td>255.408754</td>\n",
       "      <td>0.010965</td>\n",
       "    </tr>\n",
       "    <tr>\n",
       "      <th>3</th>\n",
       "      <td>242.549629</td>\n",
       "      <td>267.357268</td>\n",
       "      <td>0.007477</td>\n",
       "    </tr>\n",
       "    <tr>\n",
       "      <th>4</th>\n",
       "      <td>16.925881</td>\n",
       "      <td>49.645380</td>\n",
       "      <td>0.031158</td>\n",
       "    </tr>\n",
       "    <tr>\n",
       "      <th>...</th>\n",
       "      <td>...</td>\n",
       "      <td>...</td>\n",
       "      <td>...</td>\n",
       "    </tr>\n",
       "    <tr>\n",
       "      <th>360</th>\n",
       "      <td>36.529660</td>\n",
       "      <td>63.182011</td>\n",
       "      <td>0.022160</td>\n",
       "    </tr>\n",
       "    <tr>\n",
       "      <th>361</th>\n",
       "      <td>26.938533</td>\n",
       "      <td>62.394126</td>\n",
       "      <td>0.027502</td>\n",
       "    </tr>\n",
       "    <tr>\n",
       "      <th>362</th>\n",
       "      <td>44.628161</td>\n",
       "      <td>72.225411</td>\n",
       "      <td>0.027133</td>\n",
       "    </tr>\n",
       "    <tr>\n",
       "      <th>363</th>\n",
       "      <td>96.526937</td>\n",
       "      <td>128.267370</td>\n",
       "      <td>0.024139</td>\n",
       "    </tr>\n",
       "    <tr>\n",
       "      <th>364</th>\n",
       "      <td>30.831831</td>\n",
       "      <td>62.303830</td>\n",
       "      <td>0.028068</td>\n",
       "    </tr>\n",
       "  </tbody>\n",
       "</table>\n",
       "<p>365 rows × 3 columns</p>\n",
       "</div>"
      ],
      "text/plain": [
       "          PM2.5        PM10        O3\n",
       "0    124.451482  147.666800  0.015587\n",
       "1    197.385098  219.921941  0.015220\n",
       "2    227.872227  255.408754  0.010965\n",
       "3    242.549629  267.357268  0.007477\n",
       "4     16.925881   49.645380  0.031158\n",
       "..          ...         ...       ...\n",
       "360   36.529660   63.182011  0.022160\n",
       "361   26.938533   62.394126  0.027502\n",
       "362   44.628161   72.225411  0.027133\n",
       "363   96.526937  128.267370  0.024139\n",
       "364   30.831831   62.303830  0.028068\n",
       "\n",
       "[365 rows x 3 columns]"
      ]
     },
     "execution_count": 45,
     "metadata": {},
     "output_type": "execute_result"
    }
   ],
   "source": [
    "results_cv = pd.DataFrame(preds, columns = y_test.columns)\n",
    "results_cv"
   ]
  },
  {
   "cell_type": "code",
   "execution_count": 52,
   "metadata": {
    "collapsed": true
   },
   "outputs": [],
   "source": [
    "#convert pollutant predictions to corresponding AQI preds (df_aqi) and pollutant info from y_test to AQIs (y_test_aqi)\n",
    "#aqi_target, aqi_preds = max of the respective AQI columns.\n",
    "\n",
    "df_aqi = pd.DataFrame()\n",
    "y_test_aqi = pd.DataFrame()\n",
    "\n",
    "for i in aqi_names.keys(): \n",
    "    insert_col = 'AQI_' + i\n",
    "    df_aqi[insert_col] = results_cv[i].apply(lambda x: compute_aqi(x, aqi_names[i]))\n",
    "    y_test_aqi[insert_col] = y_test[i].apply(lambda x: compute_aqi(x, aqi_names[i]))\n",
    "\n",
    "df_aqi['AQI'] = df_aqi.max(axis = 1)\n",
    "y_test_aqi['AQI'] = y_test_aqi.max(axis = 1)\n",
    "\n",
    "aqi_target = y_test_aqi['AQI']\n",
    "aqi_preds = df_aqi['AQI']\n",
    "aqi_preds.index = aqi_target.index"
   ]
  },
  {
   "cell_type": "code",
   "execution_count": 59,
   "metadata": {},
   "outputs": [
    {
     "data": {
      "text/html": [
       "<div>\n",
       "<style scoped>\n",
       "    .dataframe tbody tr th:only-of-type {\n",
       "        vertical-align: middle;\n",
       "    }\n",
       "\n",
       "    .dataframe tbody tr th {\n",
       "        vertical-align: top;\n",
       "    }\n",
       "\n",
       "    .dataframe thead th {\n",
       "        text-align: right;\n",
       "    }\n",
       "</style>\n",
       "<table border=\"1\" class=\"dataframe\">\n",
       "  <thead>\n",
       "    <tr style=\"text-align: right;\">\n",
       "      <th></th>\n",
       "      <th>preds</th>\n",
       "      <th>target</th>\n",
       "    </tr>\n",
       "    <tr>\n",
       "      <th>date</th>\n",
       "      <th></th>\n",
       "      <th></th>\n",
       "    </tr>\n",
       "  </thead>\n",
       "  <tbody>\n",
       "    <tr>\n",
       "      <th>2016-03-01</th>\n",
       "      <td>185.023823</td>\n",
       "      <td>178.895563</td>\n",
       "    </tr>\n",
       "    <tr>\n",
       "      <th>2016-03-02</th>\n",
       "      <td>247.462710</td>\n",
       "      <td>207.157224</td>\n",
       "    </tr>\n",
       "    <tr>\n",
       "      <th>2016-03-03</th>\n",
       "      <td>277.675180</td>\n",
       "      <td>317.209189</td>\n",
       "    </tr>\n",
       "    <tr>\n",
       "      <th>2016-03-04</th>\n",
       "      <td>292.220353</td>\n",
       "      <td>362.381447</td>\n",
       "    </tr>\n",
       "    <tr>\n",
       "      <th>2016-03-05</th>\n",
       "      <td>53.805951</td>\n",
       "      <td>175.644360</td>\n",
       "    </tr>\n",
       "    <tr>\n",
       "      <th>...</th>\n",
       "      <td>...</td>\n",
       "      <td>...</td>\n",
       "    </tr>\n",
       "    <tr>\n",
       "      <th>2017-02-24</th>\n",
       "      <td>92.383669</td>\n",
       "      <td>68.277790</td>\n",
       "    </tr>\n",
       "    <tr>\n",
       "      <th>2017-02-25</th>\n",
       "      <td>73.509563</td>\n",
       "      <td>38.216399</td>\n",
       "    </tr>\n",
       "    <tr>\n",
       "      <th>2017-02-26</th>\n",
       "      <td>109.123689</td>\n",
       "      <td>75.236513</td>\n",
       "    </tr>\n",
       "    <tr>\n",
       "      <th>2017-02-27</th>\n",
       "      <td>168.907184</td>\n",
       "      <td>151.759881</td>\n",
       "    </tr>\n",
       "    <tr>\n",
       "      <th>2017-02-28</th>\n",
       "      <td>81.171074</td>\n",
       "      <td>55.010063</td>\n",
       "    </tr>\n",
       "  </tbody>\n",
       "</table>\n",
       "<p>365 rows × 2 columns</p>\n",
       "</div>"
      ],
      "text/plain": [
       "                 preds      target\n",
       "date                              \n",
       "2016-03-01  185.023823  178.895563\n",
       "2016-03-02  247.462710  207.157224\n",
       "2016-03-03  277.675180  317.209189\n",
       "2016-03-04  292.220353  362.381447\n",
       "2016-03-05   53.805951  175.644360\n",
       "...                ...         ...\n",
       "2017-02-24   92.383669   68.277790\n",
       "2017-02-25   73.509563   38.216399\n",
       "2017-02-26  109.123689   75.236513\n",
       "2017-02-27  168.907184  151.759881\n",
       "2017-02-28   81.171074   55.010063\n",
       "\n",
       "[365 rows x 2 columns]"
      ]
     },
     "execution_count": 59,
     "metadata": {},
     "output_type": "execute_result"
    }
   ],
   "source": [
    "x_ = pd.DataFrame({'preds': aqi_preds, 'target': aqi_target})\n",
    "x_"
   ]
  },
  {
   "cell_type": "code",
   "execution_count": 60,
   "metadata": {},
   "outputs": [
    {
     "data": {
      "text/plain": [
       "(35.50503194487102, 72.37793998897276)"
      ]
     },
     "execution_count": 60,
     "metadata": {},
     "output_type": "execute_result"
    }
   ],
   "source": [
    "rms = sqrt(mean_squared_error(aqi_target, aqi_preds)) \n",
    "baseline_target = [np.mean(aqi_target)]*len(aqi_target)\n",
    "rms_b = sqrt(mean_squared_error(aqi_target, baseline_target))\n",
    "rms, rms_b"
   ]
  },
  {
   "cell_type": "markdown",
   "metadata": {},
   "source": [
    "# Univariate Output Target: AQI Outcome Information "
   ]
  },
  {
   "cell_type": "markdown",
   "metadata": {},
   "source": [
    "# RandomForests"
   ]
  },
  {
   "cell_type": "code",
   "execution_count": 130,
   "metadata": {
    "collapsed": true
   },
   "outputs": [],
   "source": [
    "X_train = train[['month', 'day', 'TEMP',\n",
    "       'PRES', 'DEWP', 'RAIN', 'WSPM', 'fall', 'spring', 'summer', 'winter',\n",
    "       'E', 'ENE', 'ESE', 'N', 'NE', 'NNE', 'NNW', 'NW', 'S', 'SE', 'SSE',\n",
    "       'SSW', 'SW', 'W', 'WNW', 'WSW', 'weekday', 'CO', 'NO2', 'SO2']]\n",
    "\n",
    "X_test = test[['month', 'day', 'TEMP',\n",
    "       'PRES', 'DEWP', 'RAIN', 'WSPM', 'fall', 'spring', 'summer', 'winter',\n",
    "       'E', 'ENE', 'ESE', 'N', 'NE', 'NNE', 'NNW', 'NW', 'S', 'SE', 'SSE',\n",
    "       'SSW', 'SW', 'W', 'WNW', 'WSW', 'weekday', 'CO', 'NO2', 'SO2']]\n"
   ]
  },
  {
   "cell_type": "code",
   "execution_count": 131,
   "metadata": {
    "collapsed": true
   },
   "outputs": [],
   "source": [
    "# # Create a pipeline\n",
    "# pipe = Pipeline([('regressor', RandomForestRegressor())])\n",
    "\n",
    "# # Create space of candidate learning algorithms and their hyperparameters\n",
    "# search_space = [{'regressor': [LogisticRegression()],\n",
    "#                  'regressor__penalty': ['l1', 'l2'],\n",
    "#                  'classifier__C': np.logspace(0, 4, 10)},\n",
    "#                 {'classifier': [RandomForestClassifier()],\n",
    "#                  'classifier__n_estimators': [10, 100, 1000],\n",
    "#                  'classifier__max_features': [1, 2, 3]}]"
   ]
  },
  {
   "cell_type": "code",
   "execution_count": 132,
   "metadata": {
    "collapsed": true
   },
   "outputs": [],
   "source": [
    "y_train = train['AQI']\n",
    "y_test = test['AQI']"
   ]
  },
  {
   "cell_type": "code",
   "execution_count": 133,
   "metadata": {
    "collapsed": true
   },
   "outputs": [],
   "source": [
    "#all features included for simple RF model"
   ]
  },
  {
   "cell_type": "code",
   "execution_count": 134,
   "metadata": {},
   "outputs": [
    {
     "data": {
      "text/plain": [
       "(25.778081980491777, 70.55302731901466)"
      ]
     },
     "execution_count": 134,
     "metadata": {},
     "output_type": "execute_result"
    }
   ],
   "source": [
    "rf = RandomForestRegressor()\n",
    "rf.fit(X_train, y_train)\n",
    "preds = rf.predict(X_test)\n",
    "\n",
    "baseline_target = [np.mean(y_test)]*len(y_test)\n",
    "rms_b = sqrt(mean_squared_error(y_test, baseline_target))\n",
    "rms = sqrt(mean_squared_error(preds, y_test))\n",
    "rms, rms_b"
   ]
  },
  {
   "cell_type": "code",
   "execution_count": 136,
   "metadata": {
    "collapsed": true
   },
   "outputs": [],
   "source": [
    "rf_df = pd.DataFrame({'preds': preds, 'target': y_test})\n",
    "rf_df.to_csv('random_forest_ts.csv')"
   ]
  },
  {
   "cell_type": "code",
   "execution_count": 76,
   "metadata": {},
   "outputs": [
    {
     "data": {
      "image/png": "[encoded data removed]",
      "text/plain": [
       "<Figure size 432x288 with 1 Axes>"
      ]
     },
     "metadata": {
      "needs_background": "light"
     },
     "output_type": "display_data"
    }
   ],
   "source": [
    "plt.barh(X_train.columns, rf.feature_importances_)\n",
    "plt.show()\n"
   ]
  },
  {
   "cell_type": "code",
   "execution_count": 73,
   "metadata": {
    "collapsed": true
   },
   "outputs": [],
   "source": [
    "#feature selection on simple RF model"
   ]
  },
  {
   "cell_type": "code",
   "execution_count": 83,
   "metadata": {},
   "outputs": [
    {
     "data": {
      "text/plain": [
       "(26.04892415063717, 70.7397424556771)"
      ]
     },
     "execution_count": 83,
     "metadata": {},
     "output_type": "execute_result"
    }
   ],
   "source": [
    "X_train = train[['month',  'TEMP', 'weekday', 'day',\n",
    "       'PRES', 'WSPM', 'RAIN', 'winter', \n",
    "       'E', 'ENE', 'ESE', 'N', 'NE', 'NNE', 'NNW', 'NW', 'S', 'SE', 'SSE',\n",
    "       'SSW', 'SW', 'W', 'WNW', 'WSW', 'CO', 'NO2', 'SO2']]\n",
    "\n",
    "X_test = test[['month', 'TEMP', 'weekday', 'day',\n",
    "       'PRES', 'WSPM', 'RAIN', 'winter',\n",
    "       'E', 'ENE', 'ESE', 'N', 'NE', 'NNE', 'NNW', 'NW', 'S', 'SE', 'SSE',\n",
    "       'SSW', 'SW', 'W', 'WNW', 'WSW', 'CO', 'NO2', 'SO2']]\n",
    "\n",
    "rf_f = RandomForestRegressor()\n",
    "rf_f.fit(X_train, y_train)\n",
    "preds = rf_f.predict(X_test)\n",
    "\n",
    "baseline_target = [np.mean(y_train[-365:])]*len(y_train[-365:])\n",
    "rms_b = sqrt(mean_squared_error(y_test, baseline_target))\n",
    "rms = sqrt(mean_squared_error(preds, y_test))\n",
    "rms, rms_b"
   ]
  },
  {
   "cell_type": "code",
   "execution_count": 89,
   "metadata": {},
   "outputs": [
    {
     "name": "stdout",
     "output_type": "stream",
     "text": [
      "Fitting 3 folds for each of 864 candidates, totalling 2592 fits\n"
     ]
    },
    {
     "name": "stderr",
     "output_type": "stream",
     "text": [
      "[Parallel(n_jobs=-1)]: Using backend LokyBackend with 2 concurrent workers.\n",
      "[Parallel(n_jobs=-1)]: Done  37 tasks      | elapsed:   10.0s\n",
      "[Parallel(n_jobs=-1)]: Done 158 tasks      | elapsed:   37.2s\n",
      "[Parallel(n_jobs=-1)]: Done 361 tasks      | elapsed:  1.4min\n",
      "[Parallel(n_jobs=-1)]: Done 644 tasks      | elapsed:  2.4min\n",
      "[Parallel(n_jobs=-1)]: Done 1009 tasks      | elapsed:  3.7min\n",
      "[Parallel(n_jobs=-1)]: Done 1454 tasks      | elapsed:  5.4min\n",
      "[Parallel(n_jobs=-1)]: Done 1981 tasks      | elapsed:  7.3min\n",
      "[Parallel(n_jobs=-1)]: Done 2588 tasks      | elapsed:  9.6min\n",
      "[Parallel(n_jobs=-1)]: Done 2592 out of 2592 | elapsed:  9.7min finished\n"
     ]
    },
    {
     "name": "stdout",
     "output_type": "stream",
     "text": [
      "{'bootstrap': False, 'max_depth': 140, 'max_features': 5, 'min_samples_leaf': 3, 'n_estimators': 100}\n"
     ]
    }
   ],
   "source": [
    "#GridSearchCV on RF model without features selected\n",
    "X_train = train[['month', 'day', 'TEMP',\n",
    "       'PRES', 'DEWP', 'RAIN', 'WSPM', 'fall', 'spring', 'summer', 'winter',\n",
    "       'E', 'ENE', 'ESE', 'N', 'NE', 'NNE', 'NNW', 'NW', 'S', 'SE', 'SSE',\n",
    "       'SSW', 'SW', 'W', 'WNW', 'WSW', 'weekday', 'CO', 'NO2', 'SO2']]\n",
    "\n",
    "X_test = test[['month', 'day', 'TEMP',\n",
    "       'PRES', 'DEWP', 'RAIN', 'WSPM', 'fall', 'spring', 'summer', 'winter',\n",
    "       'E', 'ENE', 'ESE', 'N', 'NE', 'NNE', 'NNW', 'NW', 'S', 'SE', 'SSE',\n",
    "       'SSW', 'SW', 'W', 'WNW', 'WSW', 'weekday', 'CO', 'NO2', 'SO2']]\n",
    "\n",
    "param_grid = {\n",
    "    'bootstrap': [True, False],\n",
    "    'max_depth': [80, 90, 100, 110, 120, 130, 140, 150],\n",
    "    'max_features': [3, 4, 5],\n",
    "    'min_samples_leaf': [3, 4, 5],\n",
    "    'n_estimators': [100, 120, 140, 160, 180, 200]\n",
    "}\n",
    "\n",
    "grid_search = GridSearchCV(estimator = rf,\n",
    "                          param_grid = param_grid, \n",
    "                          cv = 3, \n",
    "                           n_jobs = -1,\n",
    "                          verbose = 2)\n",
    "\n",
    "grid_search.fit(X_train, y_train)\n",
    "\n",
    "\n",
    "grid_search.best_estimator_.fit(X_train, y_train)\n",
    "preds = grid_search.best_estimator_.predict(X_test)\n",
    "\n",
    "\n",
    "baseline_target = [np.mean(y_train[-365:])]*len(y_train[-365:])\n",
    "rms_b = sqrt(mean_squared_error(y_test, baseline_target))\n",
    "rms = sqrt(mean_squared_error(preds, y_test))\n",
    "rms, rms_b\n",
    "\n",
    "print(rms, rms_b, grid_search.best_params_)"
   ]
  },
  {
   "cell_type": "code",
   "execution_count": 90,
   "metadata": {},
   "outputs": [
    {
     "data": {
      "text/plain": [
       "(29.775243096123344, 70.7397424556771)"
      ]
     },
     "execution_count": 90,
     "metadata": {},
     "output_type": "execute_result"
    }
   ],
   "source": [
    "rms, rms_b"
   ]
  },
  {
   "cell_type": "code",
   "execution_count": 94,
   "metadata": {},
   "outputs": [
    {
     "data": {
      "text/plain": [
       "(25.842043396102117, 70.55302731901466)"
      ]
     },
     "execution_count": 94,
     "metadata": {},
     "output_type": "execute_result"
    }
   ],
   "source": [
    "rf = RandomForestRegressor()\n",
    "rf.fit(X_train, y_train)\n",
    "preds = rf.predict(X_test)\n",
    "\n",
    "baseline_target = [np.mean(y_test)]*len(y_test)\n",
    "rms_b = sqrt(mean_squared_error(y_test, baseline_target))\n",
    "rms = sqrt(mean_squared_error(preds, y_test))\n",
    "rms, rms_b"
   ]
  },
  {
   "cell_type": "code",
   "execution_count": 68,
   "metadata": {},
   "outputs": [
    {
     "data": {
      "image/png": "[encoded data removed]",
      "text/plain": [
       "<Figure size 432x288 with 1 Axes>"
      ]
     },
     "metadata": {
      "needs_background": "light"
     },
     "output_type": "display_data"
    }
   ],
   "source": [
    "model.feature_importances_\n",
    "\n",
    "plt.barh(X_train.columns, model.feature_importances_)\n",
    "plt.show()"
   ]
  },
  {
   "cell_type": "code",
   "execution_count": 69,
   "metadata": {
    "collapsed": true
   },
   "outputs": [],
   "source": [
    "X_train = train[['month',  'TEMP', 'weekday', 'day',\n",
    "       'PRES', 'WSPM', 'RAIN', 'winter', \n",
    "       'E', 'ENE', 'ESE', 'N', 'NE', 'NNE', 'NNW', 'NW', 'S', 'SE', 'SSE',\n",
    "       'SSW', 'SW', 'W', 'WNW', 'WSW', 'CO', 'NO2', 'SO2']]\n",
    "\n",
    "X_test = test[['month', 'TEMP', 'weekday', 'day',\n",
    "       'PRES', 'WSPM', 'RAIN', 'winter',\n",
    "       'E', 'ENE', 'ESE', 'N', 'NE', 'NNE', 'NNW', 'NW', 'S', 'SE', 'SSE',\n",
    "       'SSW', 'SW', 'W', 'WNW', 'WSW', 'CO', 'NO2', 'SO2']]"
   ]
  },
  {
   "cell_type": "code",
   "execution_count": 70,
   "metadata": {
    "collapsed": true
   },
   "outputs": [],
   "source": [
    "model = RandomForestRegressor()\n",
    "model.fit(X_train, y_train)\n",
    "preds = model.predict(X_test)\n",
    "\n"
   ]
  },
  {
   "cell_type": "code",
   "execution_count": 71,
   "metadata": {},
   "outputs": [
    {
     "data": {
      "text/plain": [
       "(26.086448373307878, 70.55302731901466)"
      ]
     },
     "execution_count": 71,
     "metadata": {},
     "output_type": "execute_result"
    }
   ],
   "source": [
    "baseline_target = [np.mean(y_test)]*len(y_test)\n",
    "rms_b = sqrt(mean_squared_error(y_test, baseline_target))\n",
    "rms = sqrt(mean_squared_error(preds, y_test))\n",
    "rms, rms_b"
   ]
  },
  {
   "cell_type": "markdown",
   "metadata": {},
   "source": [
    "Gradient Boosting Regressor"
   ]
  },
  {
   "cell_type": "code",
   "execution_count": 96,
   "metadata": {
    "collapsed": true
   },
   "outputs": [],
   "source": [
    "#no feature selection. Simple gradient boosting regressor."
   ]
  },
  {
   "cell_type": "code",
   "execution_count": 97,
   "metadata": {
    "collapsed": true
   },
   "outputs": [],
   "source": [
    "X_train = train[['month', 'day', 'TEMP',\n",
    "       'PRES', 'DEWP', 'RAIN', 'WSPM', 'fall', 'spring', 'summer', 'winter',\n",
    "       'E', 'ENE', 'ESE', 'N', 'NE', 'NNE', 'NNW', 'NW', 'S', 'SE', 'SSE',\n",
    "       'SSW', 'SW', 'W', 'WNW', 'WSW', 'weekday', 'CO', 'NO2', 'SO2']]\n",
    "\n",
    "X_test = test[['month', 'day', 'TEMP',\n",
    "       'PRES', 'DEWP', 'RAIN', 'WSPM', 'fall', 'spring', 'summer', 'winter',\n",
    "       'E', 'ENE', 'ESE', 'N', 'NE', 'NNE', 'NNW', 'NW', 'S', 'SE', 'SSE',\n",
    "       'SSW', 'SW', 'W', 'WNW', 'WSW', 'weekday', 'CO', 'NO2', 'SO2']]\n",
    "\n",
    "gb = GradientBoostingRegressor()\n",
    "gb.fit(X_train, y_train)\n",
    "preds = gb.predict(X_test)"
   ]
  },
  {
   "cell_type": "code",
   "execution_count": 98,
   "metadata": {},
   "outputs": [
    {
     "data": {
      "text/plain": [
       "(26.20625430893963, 70.55302731901466)"
      ]
     },
     "execution_count": 98,
     "metadata": {},
     "output_type": "execute_result"
    }
   ],
   "source": [
    "baseline_target = [np.mean(y_test)]*len(y_test)\n",
    "rms_b = sqrt(mean_squared_error(y_test, baseline_target))\n",
    "rms = sqrt(mean_squared_error(preds, y_test))\n",
    "rms, rms_b"
   ]
  },
  {
   "cell_type": "code",
   "execution_count": 897,
   "metadata": {},
   "outputs": [
    {
     "data": {
      "image/png": "[encoded data removed]",
      "text/plain": [
       "<Figure size 432x288 with 1 Axes>"
      ]
     },
     "metadata": {},
     "output_type": "display_data"
    }
   ],
   "source": [
    "plt.barh(X_train.columns, model.feature_importances_)\n",
    "plt.show()"
   ]
  },
  {
   "cell_type": "code",
   "execution_count": 99,
   "metadata": {
    "collapsed": true
   },
   "outputs": [],
   "source": [
    "#feature selection for GradientBoosting\n",
    "\n",
    "X_train = train[['month',  'TEMP','weekday',\n",
    "       'PRES', 'WSPM', 'RAIN', 'winter', 'DEWP',\n",
    "       'E', 'ENE', 'ESE', 'N', 'NE', 'NNE', 'NNW', 'NW', 'S', 'SE', 'SSE',\n",
    "       'SSW', 'SW', 'W', 'WNW', 'WSW', 'CO', 'NO2', 'SO2']]\n",
    "\n",
    "X_test = test[['month', 'TEMP','weekday',\n",
    "       'PRES', 'WSPM', 'RAIN', 'winter', 'DEWP',\n",
    "       'E', 'ENE', 'ESE', 'N', 'NE', 'NNE', 'NNW', 'NW', 'S', 'SE', 'SSE',\n",
    "       'SSW', 'SW', 'W', 'WNW', 'WSW', 'CO', 'NO2', 'SO2']]\n",
    "\n",
    "gb_f = GradientBoostingRegressor()\n",
    "gb_f.fit(X_train, y_train)\n",
    "preds = gb_f.predict(X_test)\n"
   ]
  },
  {
   "cell_type": "code",
   "execution_count": 100,
   "metadata": {},
   "outputs": [
    {
     "data": {
      "text/plain": [
       "(26.022892045955984, 70.55302731901466)"
      ]
     },
     "execution_count": 100,
     "metadata": {},
     "output_type": "execute_result"
    }
   ],
   "source": [
    "baseline_target = [np.mean(y_test)]*len(y_test)\n",
    "rms_b = sqrt(mean_squared_error(y_test, baseline_target))\n",
    "rms = sqrt(mean_squared_error(preds, y_test))\n",
    "rms, rms_b"
   ]
  },
  {
   "cell_type": "code",
   "execution_count": 102,
   "metadata": {},
   "outputs": [
    {
     "name": "stdout",
     "output_type": "stream",
     "text": [
      "Fitting 3 folds for each of 432 candidates, totalling 1296 fits\n"
     ]
    },
    {
     "name": "stderr",
     "output_type": "stream",
     "text": [
      "[Parallel(n_jobs=-1)]: Using backend LokyBackend with 2 concurrent workers.\n",
      "[Parallel(n_jobs=-1)]: Done  37 tasks      | elapsed:    8.1s\n",
      "[Parallel(n_jobs=-1)]: Done 158 tasks      | elapsed:   37.4s\n",
      "[Parallel(n_jobs=-1)]: Done 361 tasks      | elapsed:  1.4min\n",
      "[Parallel(n_jobs=-1)]: Done 644 tasks      | elapsed:  2.5min\n",
      "[Parallel(n_jobs=-1)]: Done 1009 tasks      | elapsed:  4.1min\n",
      "[Parallel(n_jobs=-1)]: Done 1296 out of 1296 | elapsed:  5.3min finished\n"
     ]
    },
    {
     "data": {
      "text/plain": [
       "GridSearchCV(cv=3, error_score=nan,\n",
       "             estimator=GradientBoostingRegressor(alpha=0.9, ccp_alpha=0.0,\n",
       "                                                 criterion='friedman_mse',\n",
       "                                                 init=None, learning_rate=0.1,\n",
       "                                                 loss='ls', max_depth=3,\n",
       "                                                 max_features=None,\n",
       "                                                 max_leaf_nodes=None,\n",
       "                                                 min_impurity_decrease=0.0,\n",
       "                                                 min_impurity_split=None,\n",
       "                                                 min_samples_leaf=1,\n",
       "                                                 min_samples_split=2,\n",
       "                                                 min_weight_fraction_leaf=0.0,\n",
       "                                                 n_estimators=100,\n",
       "                                                 n_iter_n...\n",
       "                                                 random_state=None,\n",
       "                                                 subsample=1.0, tol=0.0001,\n",
       "                                                 validation_fraction=0.1,\n",
       "                                                 verbose=0, warm_start=False),\n",
       "             iid='deprecated', n_jobs=-1,\n",
       "             param_grid={'max_depth': [80, 90, 100, 110, 120, 130, 140, 150],\n",
       "                         'max_features': [3, 4, 5],\n",
       "                         'min_samples_leaf': [3, 4, 5],\n",
       "                         'n_estimators': [100, 120, 140, 160, 180, 200]},\n",
       "             pre_dispatch='2*n_jobs', refit=True, return_train_score=False,\n",
       "             scoring=None, verbose=2)"
      ]
     },
     "execution_count": 102,
     "metadata": {},
     "output_type": "execute_result"
    }
   ],
   "source": [
    "#GridSearch CV for feature selected GradientBoost. \n",
    "\n",
    "\n",
    "X_train = train[['month',  'TEMP','weekday',\n",
    "       'PRES', 'WSPM', 'RAIN', 'winter', 'DEWP',\n",
    "       'E', 'ENE', 'ESE', 'N', 'NE', 'NNE', 'NNW', 'NW', 'S', 'SE', 'SSE',\n",
    "       'SSW', 'SW', 'W', 'WNW', 'WSW', 'CO', 'NO2', 'SO2']]\n",
    "\n",
    "X_test = test[['month', 'TEMP','weekday',\n",
    "       'PRES', 'WSPM', 'RAIN', 'winter', 'DEWP',\n",
    "       'E', 'ENE', 'ESE', 'N', 'NE', 'NNE', 'NNW', 'NW', 'S', 'SE', 'SSE',\n",
    "       'SSW', 'SW', 'W', 'WNW', 'WSW', 'CO', 'NO2', 'SO2']]\n",
    "\n",
    "\n",
    "param_grid = {\n",
    "    'max_depth': [80, 90, 100, 110, 120, 130, 140, 150],\n",
    "    'max_features': [3, 4, 5],\n",
    "    'min_samples_leaf': [3, 4, 5],\n",
    "    'n_estimators': [100, 120, 140, 160, 180, 200]\n",
    "}\n",
    "\n",
    "grid_search = GridSearchCV(estimator = gb_f,\n",
    "                          param_grid = param_grid, \n",
    "                          cv = 3, \n",
    "                           n_jobs = -1,\n",
    "                          verbose = 2)\n",
    "\n",
    "grid_search.fit(X_train, y_train)"
   ]
  },
  {
   "cell_type": "code",
   "execution_count": 103,
   "metadata": {},
   "outputs": [
    {
     "data": {
      "text/plain": [
       "{'max_depth': 110,\n",
       " 'max_features': 5,\n",
       " 'min_samples_leaf': 4,\n",
       " 'n_estimators': 180}"
      ]
     },
     "execution_count": 103,
     "metadata": {},
     "output_type": "execute_result"
    }
   ],
   "source": [
    "grid_search.best_params_"
   ]
  },
  {
   "cell_type": "code",
   "execution_count": 126,
   "metadata": {},
   "outputs": [
    {
     "name": "stdout",
     "output_type": "stream",
     "text": [
      "27.552018511231 70.7397424556771 {'max_depth': 110, 'max_features': 5, 'min_samples_leaf': 4, 'n_estimators': 180}\n"
     ]
    }
   ],
   "source": [
    "grid_search.best_estimator_.fit(X_train, y_train)\n",
    "preds = grid_search.best_estimator_.predict(X_test)\n",
    "\n",
    "\n",
    "baseline_target = [np.mean(y_train[-365:])]*len(y_train[-365:])\n",
    "rms_b = sqrt(mean_squared_error(y_test, baseline_target))\n",
    "rms = sqrt(mean_squared_error(preds, y_test))\n",
    "rms, rms_b\n",
    "\n",
    "print(rms, rms_b, grid_search.best_params_)"
   ]
  },
  {
   "cell_type": "code",
   "execution_count": 129,
   "metadata": {
    "collapsed": true
   },
   "outputs": [],
   "source": [
    "time_series_df = pd.DataFrame({'preds': preds, 'target': y_test})\n",
    "time_series_df.to_csv('supervised_timeseries.csv')"
   ]
  }
 ],
 "metadata": {
  "kernelspec": {
   "display_name": "Python 3",
   "language": "python",
   "name": "python3"
  },
  "language_info": {
   "codemirror_mode": {
    "name": "ipython",
    "version": 3
   },
   "file_extension": ".py",
   "mimetype": "text/x-python",
   "name": "python",
   "nbconvert_exporter": "python",
   "pygments_lexer": "ipython3",
   "version": "3.6.3"
  }
 },
 "nbformat": 4,
 "nbformat_minor": 2
}
