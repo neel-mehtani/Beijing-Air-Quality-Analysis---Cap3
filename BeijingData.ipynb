{
 "cells": [
  {
   "cell_type": "code",
   "execution_count": 1,
   "metadata": {
    "collapsed": true
   },
   "outputs": [],
   "source": [
    "import numpy as np\n",
    "import pandas as pd\n",
    "import os \n",
    "import sys\n",
    "import sklearn\n",
    "from sklearn.metrics.pairwise import cosine_similarity \n",
    "from datetime import datetime"
   ]
  },
  {
   "cell_type": "markdown",
   "metadata": {},
   "source": [
    "# Preprocess"
   ]
  },
  {
   "cell_type": "code",
   "execution_count": 2,
   "metadata": {},
   "outputs": [
    {
     "name": "stdout",
     "output_type": "stream",
     "text": [
      "/Users/neelmehtani/Galvanize/Capstone3\r\n"
     ]
    }
   ],
   "source": [
    "!pwd"
   ]
  },
  {
   "cell_type": "code",
   "execution_count": 3,
   "metadata": {
    "collapsed": true
   },
   "outputs": [],
   "source": [
    "dp = 'PRSA_Data_20130301-20170228/'"
   ]
  },
  {
   "cell_type": "code",
   "execution_count": 4,
   "metadata": {
    "collapsed": true
   },
   "outputs": [],
   "source": [
    "filelist = os.listdir(dp)\n",
    "filelist.remove('.DS_Store')"
   ]
  },
  {
   "cell_type": "code",
   "execution_count": 5,
   "metadata": {},
   "outputs": [
    {
     "data": {
      "text/plain": [
       "385704"
      ]
     },
     "execution_count": 5,
     "metadata": {},
     "output_type": "execute_result"
    }
   ],
   "source": [
    "dfs = []\n",
    "\n",
    "for i in filelist:\n",
    "    df = pd.read_csv(dp + i)\n",
    "    dfs.append(df)\n",
    "    \n",
    "beijing = pd.concat(dfs, axis=0)\n",
    "len(beijing)"
   ]
  },
  {
   "cell_type": "code",
   "execution_count": 6,
   "metadata": {},
   "outputs": [
    {
     "data": {
      "text/plain": [
       "No             0\n",
       "year           0\n",
       "month          0\n",
       "day            0\n",
       "hour           0\n",
       "PM2.5       8043\n",
       "PM10        5965\n",
       "SO2         8352\n",
       "NO2        11362\n",
       "CO         19404\n",
       "O3         12199\n",
       "TEMP         379\n",
       "PRES         374\n",
       "DEWP         384\n",
       "RAIN         371\n",
       "wd          1743\n",
       "WSPM         305\n",
       "station        0\n",
       "dtype: int64"
      ]
     },
     "execution_count": 6,
     "metadata": {},
     "output_type": "execute_result"
    }
   ],
   "source": [
    "beijing.isnull().sum()"
   ]
  },
  {
   "cell_type": "code",
   "execution_count": 7,
   "metadata": {
    "collapsed": true
   },
   "outputs": [],
   "source": [
    "#Re-index all rows. Drop 'No'. \n",
    "#Create datetime object for later time series analysis.\n",
    "\n",
    "beijing.index = range(len(beijing.index))\n",
    "beijing.drop('No', axis=1, inplace=True)\n",
    "\n",
    "beijing['date'] = beijing.apply(lambda x: '{}-{}-{}'.format(x['year'], x['month'], x['day']), axis = 1)\n",
    "beijing['date'] = beijing['date'].apply(lambda x: datetime.strptime(x, '%Y-%m-%d'))\n",
    "\n",
    "\n",
    "def season_values(month):\n",
    "    \n",
    "    if (month >= 3) & (month <= 5):\n",
    "        \n",
    "        return 'spring'\n",
    "        \n",
    "    elif (month >= 6) & (month <= 8):\n",
    "        \n",
    "        return 'summer'\n",
    "        \n",
    "    elif (month >= 9) & (month <= 11 ):\n",
    "        \n",
    "        return 'fall'\n",
    "        \n",
    "    else: \n",
    "        return 'winter'\n",
    "    \n",
    "\n",
    "beijing['Season'] = beijing['month'].apply(lambda x: season_values(x)) \n",
    "\n",
    "szn_dums = pd.get_dummies(beijing['Season'])\n",
    "beijing.drop('Season', axis = 1, inplace = True)\n",
    "beijing = pd.concat([beijing, szn_dums], axis = 1)\n"
   ]
  },
  {
   "cell_type": "code",
   "execution_count": 8,
   "metadata": {
    "collapsed": true
   },
   "outputs": [],
   "source": [
    "#Group by year and month to fill in null values based on mean for those dates.\n",
    "y = beijing.groupby(['year', 'month']).mean()"
   ]
  },
  {
   "cell_type": "code",
   "execution_count": 9,
   "metadata": {
    "collapsed": true
   },
   "outputs": [],
   "source": [
    "for i in range(len(beijing)):\n",
    "    row = beijing.loc[i, :]\n",
    "    missing_cols = row.index[row.isnull()].tolist()\n",
    "\n",
    "    if 'wd' in missing_cols:\n",
    "        missing_cols.remove('wd')\n",
    "    \n",
    "    for j in missing_cols: \n",
    "        beijing.loc[i, j] = y.loc[(beijing.loc[i, 'year'], beijing.loc[i, 'month']), j]\n",
    "\n"
   ]
  },
  {
   "cell_type": "markdown",
   "metadata": {},
   "source": [
    "# Beijing Copy"
   ]
  },
  {
   "cell_type": "code",
   "execution_count": 10,
   "metadata": {
    "collapsed": true
   },
   "outputs": [],
   "source": [
    "beijing_copy = beijing.copy()"
   ]
  },
  {
   "cell_type": "code",
   "execution_count": 11,
   "metadata": {
    "collapsed": true
   },
   "outputs": [],
   "source": [
    "empty_wd = beijing[beijing['wd'].isnull()]"
   ]
  },
  {
   "cell_type": "code",
   "execution_count": 12,
   "metadata": {
    "collapsed": true
   },
   "outputs": [],
   "source": [
    "# def feature_replace_n_neighbors(df, index, feature, top_n=2):\n",
    "    \n",
    "#     ratings = R.loc[user].dropna()\n",
    "#     neighbors = ratings.index\n",
    "#     sims = similarity_matrix.loc[ratings.index, item].nlargest(top_n)\n",
    "#     sims_top_idx = sims[\n",
    "    \n",
    "#     return sims"
   ]
  },
  {
   "cell_type": "code",
   "execution_count": 13,
   "metadata": {
    "collapsed": true
   },
   "outputs": [],
   "source": [
    "beijing_copy.drop('station', axis = 1, inplace= True)"
   ]
  },
  {
   "cell_type": "code",
   "execution_count": 14,
   "metadata": {
    "collapsed": true
   },
   "outputs": [],
   "source": [
    "beijing_copy.fillna(0, inplace = True)"
   ]
  },
  {
   "cell_type": "code",
   "execution_count": 15,
   "metadata": {},
   "outputs": [
    {
     "data": {
      "text/plain": [
       "array(['NW', 'WNW', 'W', 'E', 'ENE', 'NE', 'ESE', 'SSE', 'NNE', 'SW',\n",
       "       'SSW', 'S', 'SE', 'NNW', 'N', 'WSW', 0], dtype=object)"
      ]
     },
     "execution_count": 15,
     "metadata": {},
     "output_type": "execute_result"
    }
   ],
   "source": [
    "beijing_copy.wd.unique()"
   ]
  },
  {
   "cell_type": "code",
   "execution_count": 16,
   "metadata": {
    "collapsed": true
   },
   "outputs": [],
   "source": [
    "wd_dict = {v: k for (k,v) in enumerate(beijing_copy.wd.unique())}"
   ]
  },
  {
   "cell_type": "code",
   "execution_count": 17,
   "metadata": {
    "collapsed": true
   },
   "outputs": [],
   "source": [
    "beijing_copy.wd = beijing_copy.wd.map(wd_dict)"
   ]
  },
  {
   "cell_type": "code",
   "execution_count": 18,
   "metadata": {
    "collapsed": true
   },
   "outputs": [],
   "source": [
    "# cosine_similarity(beijing_copy)\n",
    "\n",
    "# #for the null wind entries use the majority label from top 1-3 closest entries\n",
    "# # use argsort to grab the index values of those top labels \n",
    "# #from the index grab its wind value and insert into the null row \n",
    "\n",
    "\n",
    "# for i in empty_wd.index.tolist():\n",
    "    \n",
    "#     row = cosine_sim.iloc[i]\n",
    "    \n",
    "#     closest_idx = np.argsort(row)[::-1][0]\n",
    "    \n",
    "#     beijing_copy.loc[i, 'wd'] = beijing_copy.loc[closest_idx, 'wd']\n"
   ]
  },
  {
   "cell_type": "markdown",
   "metadata": {},
   "source": [
    "# Pollutant Unit Conversions"
   ]
  },
  {
   "cell_type": "code",
   "execution_count": 19,
   "metadata": {
    "collapsed": true
   },
   "outputs": [],
   "source": [
    "mw = {'CO': 28, 'O3': 48, 'NO2': 46, 'SO2': 64}\n",
    "\n",
    "#convert pollutant from ug/m3 to ppb based on temp. Convert to ppm for CO and O3\n",
    "\n",
    "beijing['NO2'] = (beijing['TEMP'] + 273.15)*beijing['NO2']/(12.187 * mw['NO2'])\n",
    "beijing['SO2'] = (beijing['TEMP'] + 273.15)*beijing['SO2']/(12.187 * mw['SO2'])\n",
    "\n",
    "\n",
    "beijing['CO'] = (beijing['TEMP'] + 273.15)*beijing['CO']/(12.187 * mw['CO']*1000)\n",
    "beijing['O3'] = (beijing['TEMP'] + 273.15)*beijing['O3']/(12.187 * mw['O3']*1000)\n",
    "\n",
    "\n"
   ]
  },
  {
   "cell_type": "code",
   "execution_count": 20,
   "metadata": {
    "collapsed": true
   },
   "outputs": [],
   "source": [
    "pm2 = {'pm2_good' : (0, 15.4), 'pm2_moderate' : (15.5, 40.4), 'pm2_usg' : (40.5, 65.4), 'pm2_unhealthy' : (65.5, 150.4), 'pm2_veryunhealthy' : (150.5, 250.4), 'pm2_hazardous' : (250.5, 500.4)}\n",
    "\n",
    "pm10 = {'pm10_good' : (0, 54), 'pm10_moderate' : (55, 154), 'pm10_usg' : (155, 254), 'pm10_unhealthy' : (255, 354), 'pm10_veryunhealthy' : (355, 424), 'pm10_hazardous' : (425, 604)}\n",
    "\n",
    "o3 = {'o3_good' : (0, 0.054), 'o3_moderate' : (0.055, 0.070), 'o3_usg' : (0.071, 0.085), 'o3_unhealthy' : (0.086, 0.105), 'o3_veryunhealthy' : (0.106, 0.200), 'o3_hazardous' : (0.201, 2.00)}\n",
    "\n",
    "co = {'co_good' : (0, 4.4), 'co_moderate' : (4.5, 9.4), 'co_usg' : (9.5, 12.4), 'co_unhealthy' : (12.5, 15.4), 'co_veryunhealthy' : (15.5, 30.4), 'co_hazardous' : (30.5, 50.4)}\n",
    "\n",
    "no = {'no_good' : (0, 53), 'no_moderate' : (54, 100), 'no_usg' : (101, 360), 'no_unhealthy' : (361, 649), 'no_veryunhealthy' : (650, 1249), 'no_hazardous' : (1250, 2049)}\n",
    "\n",
    "so = {'so_good' : (0, 35), 'so_moderate' : (36, 75), 'so_usg' : (76, 185), 'so_unhealthy' : (186, 304), 'so_veryunhealthy' : (305, 604), 'so_hazardous' : (605, 1004)}\n",
    "\n",
    "aqis = {'aqi_good' : (0, 50),'aqi_moderate' : (51, 100),'aqi_usg' : (101, 150),'aqi_unhealthy' : (151, 200),'aqi_veryunhealthy' : (201, 300),'aqi_hazardous' : (301, 500)}"
   ]
  },
  {
   "cell_type": "raw",
   "metadata": {},
   "source": [
    "#create copy to work around wind feature"
   ]
  },
  {
   "cell_type": "code",
   "execution_count": 21,
   "metadata": {
    "collapsed": true
   },
   "outputs": [],
   "source": [
    "beijing_daily = beijing.copy()\n",
    "beijing_daily .drop(['year', 'month', 'day', 'hour'], axis = 1, inplace = True)\n",
    "beijing_daily = beijing_daily.groupby('date').mean()"
   ]
  },
  {
   "cell_type": "code",
   "execution_count": 22,
   "metadata": {
    "collapsed": true
   },
   "outputs": [],
   "source": [
    "# def compute_aqi(pollutant, aqi_dict): \n",
    "    \n",
    "    \n",
    "#     if (pollutant >= aqi_dict['{}_good'.format(aqi_dict)][0]) & (pollutant <= aqi_dict['{}_good'.format(aqi_dict)][1]):\n",
    "#         aqi = ((pollutant - aqi_dict['{}_good'.format(aqi_dict)][0])*(aqis['aqi_good'][1] - aqis['aqi_good'][0])/(aqi_dict['{}_good'.format(aqi_dict)][1] - aqi_dict['{}_good'.format(aqi_dict)][0])) + aqis['aqi_good'][0]\n",
    "#     elif (pollutant >= aqi_dict['{}_moderate'.format(aqi_dict)][0] ) & (pollutant <= aqi_dict['{}_moderate'.format(aqi_dict)][1]):\n",
    "#         aqi = ((pollutant - aqi_dict['{}_moderate'.format(aqi_dict)][0])*(aqis['aqi_moderate'][1] - aqis['aqi_moderate'][0])/(aqi_dict['{}_moderate'.format(aqi_dict)][1] - aqi_dict['{}_moderate'.format(aqi_dict)][0])) + aqis['aqi_moderate'][0]\n",
    "#     elif (pollutant >= aqi_dict['{}_usg'.format(aqi_dict)][0] ) & (pollutant <= aqi_dict['{}_usg'.format(aqi_dict)][1]):\n",
    "#         aqi = ((pollutant - aqi_dict['{}_usg'.format(aqi_dict)][0])*(aqis['aqi_usg'][1] - aqis['aqi_usg'][0])/(aqi_dict['{}_usg'.format(aqi_dict)][1] - aqi_dict['{}_usg'.format(aqi_dict)][0])) + aqis['aqi_usg'][0]\n",
    "#     elif (pollutant >= aqi_dict['{}_unhealthy'.format(aqi_dict)][0] ) & (pollutant <= aqi_dict['{}_unhealthy'.format(aqi_dict)][1]):\n",
    "#         aqi = ((pollutant - aqi_dict['{}_unhealthy'.format(aqi_dict)][0])*(aqis['aqi_unhealthy'][1] - aqis['aqi_unhealthy'][0])/(aqi_dict['{}_unhealthy'.format(aqi_dict)][1] - aqi_dict['{}_unhealthy'.format(aqi_dict)][0])) + aqis['aqi_unhealthy'][0]\n",
    "#     elif (pollutant >= aqi_dict['{}_veryunhealthy'.format(aqi_dict)][0] ) & (pollutant <= aqi_dict['{}_veryunhealthy'.format(aqi_dict)][1]):\n",
    "#         aqi = ((pollutant - aqi_dict['{}_veryunhealthy'.format(aqi_dict)][0])*(aqis['aqi_veryunhealthy'][1] - aqis['aqi_veryunhealthy'][0])/(aqi_dict['{}_veryunhealthy'.format(aqi_dict)][1] - aqi_dict['{}_veryunhealthy'.format(aqi_dict)][0])) + aqis['aqi_veryunhealthy'][0]\n",
    "#     else: \n",
    "#         aqi = ((pollutant - aqi_dict['{}_hazardous'.format(aqi_dict)][0])*(aqis['aqi_hazardous'][1] - aqis['aqi_hazardous'][0])/(aqi_dict['{}_hazardous'.format(aqi_dict)][1] - aqi_dict['{}_hazardous'.format(aqi_dict)][0])) + aqis['aqi_hazardous'][0]\n",
    "\n",
    "#     return aqi\n",
    "            \n",
    "            "
   ]
  },
  {
   "cell_type": "markdown",
   "metadata": {},
   "source": [
    "# Beijing Daily: AQI Daily Calculation "
   ]
  },
  {
   "cell_type": "code",
   "execution_count": 23,
   "metadata": {
    "collapsed": true
   },
   "outputs": [],
   "source": [
    "def compute_aqi2(pm_data): \n",
    " \n",
    "    if (pm_data >= pm2['pm2_good'][0]) & (pm_data <= pm2['pm2_good'][1]):\n",
    "        aqi = ((pm_data - pm2['pm2_good'][0])*(aqis['aqi_good'][1] - aqis['aqi_good'][0])/(pm2['pm2_good'][1] - pm2['pm2_good'][0])) + aqis['aqi_good'][0]\n",
    "    elif (pm_data >= pm2['pm2_moderate'][0] ) & (pm_data <= pm2['pm2_moderate'][1]):\n",
    "        aqi = ((pm_data - pm2['pm2_moderate'][0])*(aqis['aqi_moderate'][1] - aqis['aqi_moderate'][0])/(pm2['pm2_moderate'][1] - pm2['pm2_moderate'][0])) + aqis['aqi_moderate'][0]\n",
    "    elif (pm_data >= pm2['pm2_usg'][0] ) & (pm_data <= pm2['pm2_usg'][1]):\n",
    "        aqi = ((pm_data - pm2['pm2_usg'][0])*(aqis['aqi_usg'][1] - aqis['aqi_usg'][0])/(pm2['pm2_usg'][1] - pm2['pm2_usg'][0])) + aqis['aqi_usg'][0]\n",
    "    elif (pm_data >= pm2['pm2_unhealthy'][0] ) & (pm_data <= pm2['pm2_unhealthy'][1]):\n",
    "        aqi = ((pm_data - pm2['pm2_unhealthy'][0])*(aqis['aqi_unhealthy'][1] - aqis['aqi_unhealthy'][0])/(pm2['pm2_unhealthy'][1] - pm2['pm2_unhealthy'][0])) + aqis['aqi_unhealthy'][0]\n",
    "    elif (pm_data >= pm2['pm2_veryunhealthy'][0] ) & (pm_data <= pm2['pm2_veryunhealthy'][1]):\n",
    "        aqi = ((pm_data - pm2['pm2_veryunhealthy'][0])*(aqis['aqi_veryunhealthy'][1] - aqis['aqi_veryunhealthy'][0])/(pm2['pm2_veryunhealthy'][1] - pm2['pm2_veryunhealthy'][0])) + aqis['aqi_veryunhealthy'][0]\n",
    "    else: \n",
    "        aqi = ((pm_data - pm2['pm2_hazardous'][0])*(aqis['aqi_hazardous'][1] - aqis['aqi_hazardous'][0])/(pm2['pm2_hazardous'][1] - pm2['pm2_hazardous'][0])) + aqis['aqi_hazardous'][0]\n",
    "\n",
    "    return aqi\n",
    "            \n",
    "            \n"
   ]
  },
  {
   "cell_type": "code",
   "execution_count": 24,
   "metadata": {
    "collapsed": true
   },
   "outputs": [],
   "source": [
    "def compute_aqi10(pollutant): \n",
    "\n",
    "    \n",
    " \n",
    "    if (pollutant >= pm10['pm10_good'][0]) & (pollutant <= pm10['pm10_good'][1]):\n",
    "        aqi = ((pollutant - pm10['pm10_good'][0])*(aqis['aqi_good'][1] - aqis['aqi_good'][0])/(pm10['pm10_good'][1] - pm10['pm10_good'][0])) + aqis['aqi_good'][0]\n",
    "    elif (pollutant >= pm10['pm10_moderate'][0] ) & (pollutant <= pm10['pm10_moderate'][1]):\n",
    "        aqi = ((pollutant - pm10['pm10_moderate'][0])*(aqis['aqi_moderate'][1] - aqis['aqi_moderate'][0])/(pm10['pm10_moderate'][1] - pm10['pm10_moderate'][0])) + aqis['aqi_moderate'][0]\n",
    "    elif (pollutant >= pm10['pm10_usg'][0] ) & (pollutant <= pm10['pm10_usg'][1]):\n",
    "        aqi = ((pollutant - pm10['pm10_usg'][0])*(aqis['aqi_usg'][1] - aqis['aqi_usg'][0])/(pm10['pm10_usg'][1] - pm10['pm10_usg'][0])) + aqis['aqi_usg'][0]\n",
    "    elif (pollutant >= pm10['pm10_unhealthy'][0] ) & (pollutant <= pm10['pm10_unhealthy'][1]):\n",
    "        aqi = ((pollutant - pm10['pm10_unhealthy'][0])*(aqis['aqi_unhealthy'][1] - aqis['aqi_unhealthy'][0])/(pm10['pm10_unhealthy'][1] - pm10['pm10_unhealthy'][0])) + aqis['aqi_unhealthy'][0]\n",
    "    elif (pollutant >= pm10['pm10_veryunhealthy'][0] ) & (pollutant <= pm10['pm10_veryunhealthy'][1]):\n",
    "        aqi = ((pollutant - pm10['pm10_veryunhealthy'][0])*(aqis['aqi_veryunhealthy'][1] - aqis['aqi_veryunhealthy'][0])/(pm10['pm10_veryunhealthy'][1] - pm10['pm10_veryunhealthy'][0])) + aqis['aqi_veryunhealthy'][0]\n",
    "    else: \n",
    "        aqi = ((pollutant - pm10['pm10_hazardous'][0])*(aqis['aqi_hazardous'][1] - aqis['aqi_hazardous'][0])/(pm10['pm10_hazardous'][1] - pm10['pm10_hazardous'][0])) + aqis['aqi_hazardous'][0]\n",
    "\n",
    "    return aqi\n",
    "            \n",
    "            "
   ]
  },
  {
   "cell_type": "code",
   "execution_count": 25,
   "metadata": {
    "collapsed": true
   },
   "outputs": [],
   "source": [
    "def compute_aqico(pollutant): \n",
    "\n",
    "    \n",
    " \n",
    "    if (pollutant >= co['co_good'][0]) & (pollutant <= co['co_good'][1]):\n",
    "        aqi = ((pollutant - co['co_good'][0])*(aqis['aqi_good'][1] - aqis['aqi_good'][0])/(co['co_good'][1] - co['co_good'][0])) + aqis['aqi_good'][0]\n",
    "    elif (pollutant >= co['co_moderate'][0] ) & (pollutant <= co['co_moderate'][1]):\n",
    "        aqi = ((pollutant - co['co_moderate'][0])*(aqis['aqi_moderate'][1] - aqis['aqi_moderate'][0])/(co['co_moderate'][1] - co['co_moderate'][0])) + aqis['aqi_moderate'][0]\n",
    "    elif (pollutant >= co['co_usg'][0] ) & (pollutant <= co['co_usg'][1]):\n",
    "        aqi = ((pollutant - co['co_usg'][0])*(aqis['aqi_usg'][1] - aqis['aqi_usg'][0])/(co['co_usg'][1] - co['co_usg'][0])) + aqis['aqi_usg'][0]\n",
    "    elif (pollutant >= co['co_unhealthy'][0] ) & (pollutant <= co['co_unhealthy'][1]):\n",
    "        aqi = ((pollutant - co['co_unhealthy'][0])*(aqis['aqi_unhealthy'][1] - aqis['aqi_unhealthy'][0])/(co['co_unhealthy'][1] - co['co_unhealthy'][0])) + aqis['aqi_unhealthy'][0]\n",
    "    elif (pollutant >= co['co_veryunhealthy'][0] ) & (pollutant <= co['co_veryunhealthy'][1]):\n",
    "        aqi = ((pollutant - co['co_veryunhealthy'][0])*(aqis['aqi_veryunhealthy'][1] - aqis['aqi_veryunhealthy'][0])/(co['co_veryunhealthy'][1] - co['co_veryunhealthy'][0])) + aqis['aqi_veryunhealthy'][0]\n",
    "    else: \n",
    "        aqi = ((pollutant - co['co_hazardous'][0])*(aqis['aqi_hazardous'][1] - aqis['aqi_hazardous'][0])/(co['co_hazardous'][1] - co['co_hazardous'][0])) + aqis['aqi_hazardous'][0]\n",
    "\n",
    "    return aqi\n",
    "            \n",
    "            "
   ]
  },
  {
   "cell_type": "code",
   "execution_count": 26,
   "metadata": {
    "collapsed": true
   },
   "outputs": [],
   "source": [
    "def compute_aqio3(pollutant): \n",
    "\n",
    "    \n",
    " \n",
    "    if (pollutant >= o3['o3_good'][0]) & (pollutant <= o3['o3_good'][1]):\n",
    "        aqi = ((pollutant - o3['o3_good'][0])*(aqis['aqi_good'][1] - aqis['aqi_good'][0])/(o3['o3_good'][1] - o3['o3_good'][0])) + aqis['aqi_good'][0]\n",
    "    elif (pollutant >= o3['o3_moderate'][0] ) & (pollutant <= o3['o3_moderate'][1]):\n",
    "        aqi = ((pollutant - o3['o3_moderate'][0])*(aqis['aqi_moderate'][1] - aqis['aqi_moderate'][0])/(o3['o3_moderate'][1] - o3['o3_moderate'][0])) + aqis['aqi_moderate'][0]\n",
    "    elif (pollutant >= o3['o3_usg'][0] ) & (pollutant <= o3['o3_usg'][1]):\n",
    "        aqi = ((pollutant - o3['o3_usg'][0])*(aqis['aqi_usg'][1] - aqis['aqi_usg'][0])/(o3['o3_usg'][1] - o3['o3_usg'][0])) + aqis['aqi_usg'][0]\n",
    "    elif (pollutant >= o3['o3_unhealthy'][0] ) & (pollutant <= o3['o3_unhealthy'][1]):\n",
    "        aqi = ((pollutant - o3['o3_unhealthy'][0])*(aqis['aqi_unhealthy'][1] - aqis['aqi_unhealthy'][0])/(o3['o3_unhealthy'][1] - o3['o3_unhealthy'][0])) + aqis['aqi_unhealthy'][0]\n",
    "    elif (pollutant >= o3['o3_veryunhealthy'][0] ) & (pollutant <= o3['o3_veryunhealthy'][1]):\n",
    "        aqi = ((pollutant - o3['o3_veryunhealthy'][0])*(aqis['aqi_veryunhealthy'][1] - aqis['aqi_veryunhealthy'][0])/(o3['o3_veryunhealthy'][1] - o3['o3_veryunhealthy'][0])) + aqis['aqi_veryunhealthy'][0]\n",
    "    else: \n",
    "        aqi = ((pollutant - o3['o3_hazardous'][0])*(aqis['aqi_hazardous'][1] - aqis['aqi_hazardous'][0])/(o3['o3_hazardous'][1] - o3['o3_hazardous'][0])) + aqis['aqi_hazardous'][0]\n",
    "\n",
    "    return aqi            "
   ]
  },
  {
   "cell_type": "code",
   "execution_count": 27,
   "metadata": {
    "collapsed": true
   },
   "outputs": [],
   "source": [
    "def compute_aqino(pollutant): \n",
    "\n",
    "    \n",
    " \n",
    "    if (pollutant >= no['no_good'][0]) & (pollutant <= no['no_good'][1]):\n",
    "        aqi = ((pollutant - no['no_good'][0])*(aqis['aqi_good'][1] - aqis['aqi_good'][0])/(no['no_good'][1] - no['no_good'][0])) + aqis['aqi_good'][0]\n",
    "    elif (pollutant >= no['no_moderate'][0] ) & (pollutant <= no['no_moderate'][1]):\n",
    "        aqi = ((pollutant - no['no_moderate'][0])*(aqis['aqi_moderate'][1] - aqis['aqi_moderate'][0])/(no['no_moderate'][1] - no['no_moderate'][0])) + aqis['aqi_moderate'][0]\n",
    "    elif (pollutant >= no['no_usg'][0] ) & (pollutant <= no['no_usg'][1]):\n",
    "        aqi = ((pollutant - no['no_usg'][0])*(aqis['aqi_usg'][1] - aqis['aqi_usg'][0])/(no['no_usg'][1] - no['no_usg'][0])) + aqis['aqi_usg'][0]\n",
    "    elif (pollutant >= no['no_unhealthy'][0] ) & (pollutant <= no['no_unhealthy'][1]):\n",
    "        aqi = ((pollutant - no['no_unhealthy'][0])*(aqis['aqi_unhealthy'][1] - aqis['aqi_unhealthy'][0])/(no['no_unhealthy'][1] - no['no_unhealthy'][0])) + aqis['aqi_unhealthy'][0]\n",
    "    elif (pollutant >= no['no_veryunhealthy'][0] ) & (pollutant <= no['no_veryunhealthy'][1]):\n",
    "        aqi = ((pollutant - no['no_veryunhealthy'][0])*(aqis['aqi_veryunhealthy'][1] - aqis['aqi_veryunhealthy'][0])/(no['no_veryunhealthy'][1] - no['no_veryunhealthy'][0])) + aqis['aqi_veryunhealthy'][0]\n",
    "    else: \n",
    "        aqi = ((pollutant - no['no_hazardous'][0])*(aqis['aqi_hazardous'][1] - aqis['aqi_hazardous'][0])/(no['no_hazardous'][1] - no['no_hazardous'][0])) + aqis['aqi_hazardous'][0]\n",
    "\n",
    "    return aqi\n",
    "            "
   ]
  },
  {
   "cell_type": "code",
   "execution_count": 28,
   "metadata": {
    "collapsed": true
   },
   "outputs": [],
   "source": [
    "def compute_aqiso(pollutant): \n",
    "\n",
    "    \n",
    " \n",
    "    if (pollutant >= so['so_good'][0]) & (pollutant <= so['so_good'][1]):\n",
    "        aqi = ((pollutant - so['so_good'][0])*(aqis['aqi_good'][1] - aqis['aqi_good'][0])/(so['so_good'][1] - so['so_good'][0])) + aqis['aqi_good'][0]\n",
    "    elif (pollutant >= so['so_moderate'][0] ) & (pollutant <= so['so_moderate'][1]):\n",
    "        aqi = ((pollutant - so['so_moderate'][0])*(aqis['aqi_moderate'][1] - aqis['aqi_moderate'][0])/(so['so_moderate'][1] - so['so_moderate'][0])) + aqis['aqi_moderate'][0]\n",
    "    elif (pollutant >= so['so_usg'][0] ) & (pollutant <= so['so_usg'][1]):\n",
    "        aqi = ((pollutant - so['so_usg'][0])*(aqis['aqi_usg'][1] - aqis['aqi_usg'][0])/(so['so_usg'][1] - so['so_usg'][0])) + aqis['aqi_usg'][0]\n",
    "    elif (pollutant >= so['so_unhealthy'][0] ) & (pollutant <= so['so_unhealthy'][1]):\n",
    "        aqi = ((pollutant - so['so_unhealthy'][0])*(aqis['aqi_unhealthy'][1] - aqis['aqi_unhealthy'][0])/(so['so_unhealthy'][1] - so['so_unhealthy'][0])) + aqis['aqi_unhealthy'][0]\n",
    "    elif (pollutant >= so['so_veryunhealthy'][0] ) & (pollutant <= so['so_veryunhealthy'][1]):\n",
    "        aqi = ((pollutant - so['so_veryunhealthy'][0])*(aqis['aqi_veryunhealthy'][1] - aqis['aqi_veryunhealthy'][0])/(so['so_veryunhealthy'][1] - so['so_veryunhealthy'][0])) + aqis['aqi_veryunhealthy'][0]\n",
    "    else: \n",
    "        aqi = ((pollutant - so['so_hazardous'][0])*(aqis['aqi_hazardous'][1] - aqis['aqi_hazardous'][0])/(so['so_hazardous'][1] - so['so_hazardous'][0])) + aqis['aqi_hazardous'][0]\n",
    "\n",
    "    return aqi\n",
    "            "
   ]
  },
  {
   "cell_type": "code",
   "execution_count": 29,
   "metadata": {
    "collapsed": true
   },
   "outputs": [],
   "source": [
    "beijing_daily['AQI_PM2.5'] = beijing_daily['PM2.5'].apply(lambda x: compute_aqi2(x))\n",
    "beijing_daily['AQI_PM10'] = beijing_daily['PM10'].apply(lambda x: compute_aqi10(x))\n",
    "beijing_daily['AQI_CO'] = beijing_daily['CO'].apply(lambda x: compute_aqico(x))\n",
    "beijing_daily['AQI_NO2'] = beijing_daily['NO2'].apply(lambda x: compute_aqino(x))\n",
    "beijing_daily['AQI_SO2'] = beijing_daily['SO2'].apply(lambda x: compute_aqiso(x))\n",
    "beijing_daily['AQI_O3'] = beijing_daily['O3'].apply(lambda x: compute_aqio3(x))"
   ]
  },
  {
   "cell_type": "code",
   "execution_count": 30,
   "metadata": {
    "collapsed": true
   },
   "outputs": [],
   "source": [
    "lst = list(beijing_daily.iloc[:, -7:].max(axis = 1))"
   ]
  },
  {
   "cell_type": "code",
   "execution_count": 31,
   "metadata": {
    "collapsed": true
   },
   "outputs": [],
   "source": [
    "beijing_daily['aqi'] = lst"
   ]
  },
  {
   "cell_type": "code",
   "execution_count": 34,
   "metadata": {},
   "outputs": [
    {
     "data": {
      "text/html": [
       "<div>\n",
       "<style scoped>\n",
       "    .dataframe tbody tr th:only-of-type {\n",
       "        vertical-align: middle;\n",
       "    }\n",
       "\n",
       "    .dataframe tbody tr th {\n",
       "        vertical-align: top;\n",
       "    }\n",
       "\n",
       "    .dataframe thead th {\n",
       "        text-align: right;\n",
       "    }\n",
       "</style>\n",
       "<table border=\"1\" class=\"dataframe\">\n",
       "  <thead>\n",
       "    <tr style=\"text-align: right;\">\n",
       "      <th></th>\n",
       "      <th>PM2.5</th>\n",
       "      <th>PM10</th>\n",
       "      <th>SO2</th>\n",
       "      <th>NO2</th>\n",
       "      <th>CO</th>\n",
       "      <th>O3</th>\n",
       "      <th>TEMP</th>\n",
       "      <th>PRES</th>\n",
       "      <th>DEWP</th>\n",
       "      <th>RAIN</th>\n",
       "      <th>...</th>\n",
       "      <th>spring</th>\n",
       "      <th>summer</th>\n",
       "      <th>winter</th>\n",
       "      <th>AQI_PM2.5</th>\n",
       "      <th>AQI_PM10</th>\n",
       "      <th>AQI_CO</th>\n",
       "      <th>AQI_NO2</th>\n",
       "      <th>AQI_SO2</th>\n",
       "      <th>AQI_O3</th>\n",
       "      <th>aqi</th>\n",
       "    </tr>\n",
       "    <tr>\n",
       "      <th>date</th>\n",
       "      <th></th>\n",
       "      <th></th>\n",
       "      <th></th>\n",
       "      <th></th>\n",
       "      <th></th>\n",
       "      <th></th>\n",
       "      <th></th>\n",
       "      <th></th>\n",
       "      <th></th>\n",
       "      <th></th>\n",
       "      <th></th>\n",
       "      <th></th>\n",
       "      <th></th>\n",
       "      <th></th>\n",
       "      <th></th>\n",
       "      <th></th>\n",
       "      <th></th>\n",
       "      <th></th>\n",
       "      <th></th>\n",
       "      <th></th>\n",
       "      <th></th>\n",
       "    </tr>\n",
       "  </thead>\n",
       "  <tbody>\n",
       "    <tr>\n",
       "      <th>2013-03-01</th>\n",
       "      <td>7.261364</td>\n",
       "      <td>13.275486</td>\n",
       "      <td>3.505375</td>\n",
       "      <td>14.341677</td>\n",
       "      <td>0.348265</td>\n",
       "      <td>0.032490</td>\n",
       "      <td>1.093182</td>\n",
       "      <td>1026.630303</td>\n",
       "      <td>-20.188636</td>\n",
       "      <td>0.0</td>\n",
       "      <td>...</td>\n",
       "      <td>1</td>\n",
       "      <td>0</td>\n",
       "      <td>0</td>\n",
       "      <td>23.575856</td>\n",
       "      <td>12.292116</td>\n",
       "      <td>3.957552</td>\n",
       "      <td>13.529884</td>\n",
       "      <td>5.007678</td>\n",
       "      <td>30.083737</td>\n",
       "      <td>30.083737</td>\n",
       "    </tr>\n",
       "    <tr>\n",
       "      <th>2013-03-02</th>\n",
       "      <td>31.526515</td>\n",
       "      <td>40.919940</td>\n",
       "      <td>11.294616</td>\n",
       "      <td>28.053480</td>\n",
       "      <td>0.772689</td>\n",
       "      <td>0.015471</td>\n",
       "      <td>0.222348</td>\n",
       "      <td>1026.601136</td>\n",
       "      <td>-16.344318</td>\n",
       "      <td>0.0</td>\n",
       "      <td>...</td>\n",
       "      <td>1</td>\n",
       "      <td>0</td>\n",
       "      <td>0</td>\n",
       "      <td>82.538122</td>\n",
       "      <td>37.888833</td>\n",
       "      <td>8.780553</td>\n",
       "      <td>26.465547</td>\n",
       "      <td>16.135166</td>\n",
       "      <td>14.324617</td>\n",
       "      <td>82.538122</td>\n",
       "    </tr>\n",
       "    <tr>\n",
       "      <th>2013-03-03</th>\n",
       "      <td>77.772727</td>\n",
       "      <td>109.344697</td>\n",
       "      <td>17.254908</td>\n",
       "      <td>37.503760</td>\n",
       "      <td>1.419104</td>\n",
       "      <td>0.011585</td>\n",
       "      <td>5.256818</td>\n",
       "      <td>1014.256061</td>\n",
       "      <td>-12.375000</td>\n",
       "      <td>0.0</td>\n",
       "      <td>...</td>\n",
       "      <td>1</td>\n",
       "      <td>0</td>\n",
       "      <td>0</td>\n",
       "      <td>158.083199</td>\n",
       "      <td>77.897880</td>\n",
       "      <td>16.126176</td>\n",
       "      <td>35.380905</td>\n",
       "      <td>24.649868</td>\n",
       "      <td>10.727299</td>\n",
       "      <td>158.083199</td>\n",
       "    </tr>\n",
       "    <tr>\n",
       "      <th>2013-03-04</th>\n",
       "      <td>23.176567</td>\n",
       "      <td>41.445940</td>\n",
       "      <td>6.819097</td>\n",
       "      <td>22.596189</td>\n",
       "      <td>0.604732</td>\n",
       "      <td>0.028184</td>\n",
       "      <td>9.626515</td>\n",
       "      <td>1017.303030</td>\n",
       "      <td>-12.860606</td>\n",
       "      <td>0.0</td>\n",
       "      <td>...</td>\n",
       "      <td>1</td>\n",
       "      <td>0</td>\n",
       "      <td>0</td>\n",
       "      <td>66.106498</td>\n",
       "      <td>38.375871</td>\n",
       "      <td>6.871956</td>\n",
       "      <td>21.317160</td>\n",
       "      <td>9.741567</td>\n",
       "      <td>26.096449</td>\n",
       "      <td>66.106498</td>\n",
       "    </tr>\n",
       "    <tr>\n",
       "      <th>2013-03-05</th>\n",
       "      <td>129.179116</td>\n",
       "      <td>158.106061</td>\n",
       "      <td>25.174703</td>\n",
       "      <td>51.026083</td>\n",
       "      <td>1.649297</td>\n",
       "      <td>0.037918</td>\n",
       "      <td>6.574621</td>\n",
       "      <td>1010.608712</td>\n",
       "      <td>-7.957576</td>\n",
       "      <td>0.0</td>\n",
       "      <td>...</td>\n",
       "      <td>1</td>\n",
       "      <td>0</td>\n",
       "      <td>0</td>\n",
       "      <td>187.752376</td>\n",
       "      <td>102.537343</td>\n",
       "      <td>18.742008</td>\n",
       "      <td>48.137814</td>\n",
       "      <td>35.963861</td>\n",
       "      <td>35.109718</td>\n",
       "      <td>187.752376</td>\n",
       "    </tr>\n",
       "    <tr>\n",
       "      <th>...</th>\n",
       "      <td>...</td>\n",
       "      <td>...</td>\n",
       "      <td>...</td>\n",
       "      <td>...</td>\n",
       "      <td>...</td>\n",
       "      <td>...</td>\n",
       "      <td>...</td>\n",
       "      <td>...</td>\n",
       "      <td>...</td>\n",
       "      <td>...</td>\n",
       "      <td>...</td>\n",
       "      <td>...</td>\n",
       "      <td>...</td>\n",
       "      <td>...</td>\n",
       "      <td>...</td>\n",
       "      <td>...</td>\n",
       "      <td>...</td>\n",
       "      <td>...</td>\n",
       "      <td>...</td>\n",
       "      <td>...</td>\n",
       "      <td>...</td>\n",
       "    </tr>\n",
       "    <tr>\n",
       "      <th>2017-02-24</th>\n",
       "      <td>24.279938</td>\n",
       "      <td>37.878400</td>\n",
       "      <td>3.418476</td>\n",
       "      <td>21.716438</td>\n",
       "      <td>0.569965</td>\n",
       "      <td>0.022355</td>\n",
       "      <td>4.850379</td>\n",
       "      <td>1019.198106</td>\n",
       "      <td>-11.370833</td>\n",
       "      <td>0.0</td>\n",
       "      <td>...</td>\n",
       "      <td>0</td>\n",
       "      <td>0</td>\n",
       "      <td>1</td>\n",
       "      <td>68.277790</td>\n",
       "      <td>35.072593</td>\n",
       "      <td>6.476874</td>\n",
       "      <td>20.487205</td>\n",
       "      <td>4.883537</td>\n",
       "      <td>20.698901</td>\n",
       "      <td>68.277790</td>\n",
       "    </tr>\n",
       "    <tr>\n",
       "      <th>2017-02-25</th>\n",
       "      <td>11.770651</td>\n",
       "      <td>22.266852</td>\n",
       "      <td>2.082350</td>\n",
       "      <td>15.123112</td>\n",
       "      <td>0.390930</td>\n",
       "      <td>0.028563</td>\n",
       "      <td>7.021591</td>\n",
       "      <td>1017.010227</td>\n",
       "      <td>-10.570833</td>\n",
       "      <td>0.0</td>\n",
       "      <td>...</td>\n",
       "      <td>0</td>\n",
       "      <td>0</td>\n",
       "      <td>1</td>\n",
       "      <td>38.216399</td>\n",
       "      <td>20.617455</td>\n",
       "      <td>4.442383</td>\n",
       "      <td>14.267087</td>\n",
       "      <td>2.974786</td>\n",
       "      <td>26.447192</td>\n",
       "      <td>38.216399</td>\n",
       "    </tr>\n",
       "    <tr>\n",
       "      <th>2017-02-26</th>\n",
       "      <td>27.816106</td>\n",
       "      <td>45.149427</td>\n",
       "      <td>3.643582</td>\n",
       "      <td>24.807694</td>\n",
       "      <td>0.587603</td>\n",
       "      <td>0.020739</td>\n",
       "      <td>6.729167</td>\n",
       "      <td>1018.506818</td>\n",
       "      <td>-7.982576</td>\n",
       "      <td>0.0</td>\n",
       "      <td>...</td>\n",
       "      <td>0</td>\n",
       "      <td>0</td>\n",
       "      <td>1</td>\n",
       "      <td>75.236513</td>\n",
       "      <td>41.805025</td>\n",
       "      <td>6.677308</td>\n",
       "      <td>23.403485</td>\n",
       "      <td>5.205117</td>\n",
       "      <td>19.202728</td>\n",
       "      <td>75.236513</td>\n",
       "    </tr>\n",
       "    <tr>\n",
       "      <th>2017-02-27</th>\n",
       "      <td>66.816611</td>\n",
       "      <td>97.045753</td>\n",
       "      <td>6.062260</td>\n",
       "      <td>36.852067</td>\n",
       "      <td>1.073475</td>\n",
       "      <td>0.013933</td>\n",
       "      <td>7.699621</td>\n",
       "      <td>1015.343182</td>\n",
       "      <td>-7.103788</td>\n",
       "      <td>0.0</td>\n",
       "      <td>...</td>\n",
       "      <td>0</td>\n",
       "      <td>0</td>\n",
       "      <td>1</td>\n",
       "      <td>151.759881</td>\n",
       "      <td>71.810524</td>\n",
       "      <td>12.198582</td>\n",
       "      <td>34.766101</td>\n",
       "      <td>8.660372</td>\n",
       "      <td>12.901127</td>\n",
       "      <td>151.759881</td>\n",
       "    </tr>\n",
       "    <tr>\n",
       "      <th>2017-02-28</th>\n",
       "      <td>17.537767</td>\n",
       "      <td>31.447119</td>\n",
       "      <td>2.578817</td>\n",
       "      <td>16.945079</td>\n",
       "      <td>0.451468</td>\n",
       "      <td>0.029035</td>\n",
       "      <td>10.294697</td>\n",
       "      <td>1013.149621</td>\n",
       "      <td>-12.229545</td>\n",
       "      <td>0.0</td>\n",
       "      <td>...</td>\n",
       "      <td>0</td>\n",
       "      <td>0</td>\n",
       "      <td>1</td>\n",
       "      <td>55.010063</td>\n",
       "      <td>29.117703</td>\n",
       "      <td>5.130313</td>\n",
       "      <td>15.985924</td>\n",
       "      <td>3.684025</td>\n",
       "      <td>26.884587</td>\n",
       "      <td>55.010063</td>\n",
       "    </tr>\n",
       "  </tbody>\n",
       "</table>\n",
       "<p>1461 rows × 22 columns</p>\n",
       "</div>"
      ],
      "text/plain": [
       "                 PM2.5        PM10        SO2        NO2        CO        O3  \\\n",
       "date                                                                           \n",
       "2013-03-01    7.261364   13.275486   3.505375  14.341677  0.348265  0.032490   \n",
       "2013-03-02   31.526515   40.919940  11.294616  28.053480  0.772689  0.015471   \n",
       "2013-03-03   77.772727  109.344697  17.254908  37.503760  1.419104  0.011585   \n",
       "2013-03-04   23.176567   41.445940   6.819097  22.596189  0.604732  0.028184   \n",
       "2013-03-05  129.179116  158.106061  25.174703  51.026083  1.649297  0.037918   \n",
       "...                ...         ...        ...        ...       ...       ...   \n",
       "2017-02-24   24.279938   37.878400   3.418476  21.716438  0.569965  0.022355   \n",
       "2017-02-25   11.770651   22.266852   2.082350  15.123112  0.390930  0.028563   \n",
       "2017-02-26   27.816106   45.149427   3.643582  24.807694  0.587603  0.020739   \n",
       "2017-02-27   66.816611   97.045753   6.062260  36.852067  1.073475  0.013933   \n",
       "2017-02-28   17.537767   31.447119   2.578817  16.945079  0.451468  0.029035   \n",
       "\n",
       "                 TEMP         PRES       DEWP  RAIN  ...  spring  summer  \\\n",
       "date                                                 ...                   \n",
       "2013-03-01   1.093182  1026.630303 -20.188636   0.0  ...       1       0   \n",
       "2013-03-02   0.222348  1026.601136 -16.344318   0.0  ...       1       0   \n",
       "2013-03-03   5.256818  1014.256061 -12.375000   0.0  ...       1       0   \n",
       "2013-03-04   9.626515  1017.303030 -12.860606   0.0  ...       1       0   \n",
       "2013-03-05   6.574621  1010.608712  -7.957576   0.0  ...       1       0   \n",
       "...               ...          ...        ...   ...  ...     ...     ...   \n",
       "2017-02-24   4.850379  1019.198106 -11.370833   0.0  ...       0       0   \n",
       "2017-02-25   7.021591  1017.010227 -10.570833   0.0  ...       0       0   \n",
       "2017-02-26   6.729167  1018.506818  -7.982576   0.0  ...       0       0   \n",
       "2017-02-27   7.699621  1015.343182  -7.103788   0.0  ...       0       0   \n",
       "2017-02-28  10.294697  1013.149621 -12.229545   0.0  ...       0       0   \n",
       "\n",
       "            winter   AQI_PM2.5    AQI_PM10     AQI_CO    AQI_NO2    AQI_SO2  \\\n",
       "date                                                                          \n",
       "2013-03-01       0   23.575856   12.292116   3.957552  13.529884   5.007678   \n",
       "2013-03-02       0   82.538122   37.888833   8.780553  26.465547  16.135166   \n",
       "2013-03-03       0  158.083199   77.897880  16.126176  35.380905  24.649868   \n",
       "2013-03-04       0   66.106498   38.375871   6.871956  21.317160   9.741567   \n",
       "2013-03-05       0  187.752376  102.537343  18.742008  48.137814  35.963861   \n",
       "...            ...         ...         ...        ...        ...        ...   \n",
       "2017-02-24       1   68.277790   35.072593   6.476874  20.487205   4.883537   \n",
       "2017-02-25       1   38.216399   20.617455   4.442383  14.267087   2.974786   \n",
       "2017-02-26       1   75.236513   41.805025   6.677308  23.403485   5.205117   \n",
       "2017-02-27       1  151.759881   71.810524  12.198582  34.766101   8.660372   \n",
       "2017-02-28       1   55.010063   29.117703   5.130313  15.985924   3.684025   \n",
       "\n",
       "               AQI_O3         aqi  \n",
       "date                               \n",
       "2013-03-01  30.083737   30.083737  \n",
       "2013-03-02  14.324617   82.538122  \n",
       "2013-03-03  10.727299  158.083199  \n",
       "2013-03-04  26.096449   66.106498  \n",
       "2013-03-05  35.109718  187.752376  \n",
       "...               ...         ...  \n",
       "2017-02-24  20.698901   68.277790  \n",
       "2017-02-25  26.447192   38.216399  \n",
       "2017-02-26  19.202728   75.236513  \n",
       "2017-02-27  12.901127  151.759881  \n",
       "2017-02-28  26.884587   55.010063  \n",
       "\n",
       "[1461 rows x 22 columns]"
      ]
     },
     "execution_count": 34,
     "metadata": {},
     "output_type": "execute_result"
    }
   ],
   "source": [
    "beijing_daily"
   ]
  },
  {
   "cell_type": "markdown",
   "metadata": {},
   "source": [
    "# Save Beijing & Beijing Daily"
   ]
  },
  {
   "cell_type": "code",
   "execution_count": 35,
   "metadata": {
    "collapsed": true
   },
   "outputs": [],
   "source": [
    "beijing_daily.to_csv('beijing_grouped_daily.csv')"
   ]
  },
  {
   "cell_type": "code",
   "execution_count": 33,
   "metadata": {
    "collapsed": true
   },
   "outputs": [],
   "source": [
    "beijing.to_csv('beijing_ungrouped_aqis.csv', index = False)"
   ]
  }
 ],
 "metadata": {
  "kernelspec": {
   "display_name": "Python 3",
   "language": "python",
   "name": "python3"
  },
  "language_info": {
   "codemirror_mode": {
    "name": "ipython",
    "version": 3
   },
   "file_extension": ".py",
   "mimetype": "text/x-python",
   "name": "python",
   "nbconvert_exporter": "python",
   "pygments_lexer": "ipython3",
   "version": "3.6.3"
  }
 },
 "nbformat": 4,
 "nbformat_minor": 2
}
